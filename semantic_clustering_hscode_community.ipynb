{
 "cells": [
  {
   "cell_type": "code",
   "execution_count": 1,
   "metadata": {},
   "outputs": [],
   "source": [
    "%load_ext autoreload\n",
    "%autoreload 2"
   ]
  },
  {
   "cell_type": "code",
   "execution_count": 2,
   "metadata": {},
   "outputs": [],
   "source": [
    "import pandas as pd\n",
    "import numpy as np\n",
    "from sentence_transformers import SentenceTransformer, util\n",
    "from sklearn.cluster import DBSCAN, OPTICS, KMeans\n",
    "from sklearn import metrics\n",
    "import hdbscan\n",
    "import time\n",
    "import umap\n",
    "import umap.plot\n",
    "\n",
    "from utils import prepare_dataset, calculate_all_metric"
   ]
  },
  {
   "cell_type": "markdown",
   "metadata": {},
   "source": [
    "#### Input"
   ]
  },
  {
   "cell_type": "code",
   "execution_count": 3,
   "metadata": {},
   "outputs": [
    {
     "data": {
      "text/html": [
       "<div>\n",
       "<style scoped>\n",
       "    .dataframe tbody tr th:only-of-type {\n",
       "        vertical-align: middle;\n",
       "    }\n",
       "\n",
       "    .dataframe tbody tr th {\n",
       "        vertical-align: top;\n",
       "    }\n",
       "\n",
       "    .dataframe thead th {\n",
       "        text-align: right;\n",
       "    }\n",
       "</style>\n",
       "<table border=\"1\" class=\"dataframe\">\n",
       "  <thead>\n",
       "    <tr style=\"text-align: right;\">\n",
       "      <th></th>\n",
       "      <th>hscode4_text</th>\n",
       "      <th>HSCode2</th>\n",
       "    </tr>\n",
       "  </thead>\n",
       "  <tbody>\n",
       "    <tr>\n",
       "      <th>22598</th>\n",
       "      <td>ม้า ลา และล่อมีชีวิต</td>\n",
       "      <td>01</td>\n",
       "    </tr>\n",
       "    <tr>\n",
       "      <th>22608</th>\n",
       "      <td>สัตว์จำพวกโคกระบือ มีชีวิต</td>\n",
       "      <td>01</td>\n",
       "    </tr>\n",
       "    <tr>\n",
       "      <th>22626</th>\n",
       "      <td>สุกรมีชีวิต</td>\n",
       "      <td>01</td>\n",
       "    </tr>\n",
       "    <tr>\n",
       "      <th>22632</th>\n",
       "      <td>แกะและแพะมีชีวิต</td>\n",
       "      <td>01</td>\n",
       "    </tr>\n",
       "    <tr>\n",
       "      <th>22640</th>\n",
       "      <td>สัตว์ปีกเลี้ยงมีชีวิต ได้แก่ ไก่ชนิดแกลลัสโดเม...</td>\n",
       "      <td>01</td>\n",
       "    </tr>\n",
       "    <tr>\n",
       "      <th>...</th>\n",
       "      <td>...</td>\n",
       "      <td>...</td>\n",
       "    </tr>\n",
       "    <tr>\n",
       "      <th>81044</th>\n",
       "      <td>Original engravings, prints and lithographs.  ...</td>\n",
       "      <td>97</td>\n",
       "    </tr>\n",
       "    <tr>\n",
       "      <th>81048</th>\n",
       "      <td>Original sculptures and statuary, in any mater...</td>\n",
       "      <td>97</td>\n",
       "    </tr>\n",
       "    <tr>\n",
       "      <th>81086</th>\n",
       "      <td>Postage or revenue stamps, stamp-postmarks, fi...</td>\n",
       "      <td>97</td>\n",
       "    </tr>\n",
       "    <tr>\n",
       "      <th>81088</th>\n",
       "      <td>Collections and collectors' pieces of zoologic...</td>\n",
       "      <td>97</td>\n",
       "    </tr>\n",
       "    <tr>\n",
       "      <th>81104</th>\n",
       "      <td>Antiques of an age exceeding one hundred years...</td>\n",
       "      <td>97</td>\n",
       "    </tr>\n",
       "  </tbody>\n",
       "</table>\n",
       "<p>2427 rows × 2 columns</p>\n",
       "</div>"
      ],
      "text/plain": [
       "                                            hscode4_text HSCode2\n",
       "22598                               ม้า ลา และล่อมีชีวิต      01\n",
       "22608                         สัตว์จำพวกโคกระบือ มีชีวิต      01\n",
       "22626                                        สุกรมีชีวิต      01\n",
       "22632                                   แกะและแพะมีชีวิต      01\n",
       "22640  สัตว์ปีกเลี้ยงมีชีวิต ได้แก่ ไก่ชนิดแกลลัสโดเม...      01\n",
       "...                                                  ...     ...\n",
       "81044  Original engravings, prints and lithographs.  ...      97\n",
       "81048  Original sculptures and statuary, in any mater...      97\n",
       "81086  Postage or revenue stamps, stamp-postmarks, fi...      97\n",
       "81088  Collections and collectors' pieces of zoologic...      97\n",
       "81104  Antiques of an age exceeding one hundred years...      97\n",
       "\n",
       "[2427 rows x 2 columns]"
      ]
     },
     "execution_count": 3,
     "metadata": {},
     "output_type": "execute_result"
    }
   ],
   "source": [
    "df_hscode4 = prepare_dataset()\n",
    "df_hscode4"
   ]
  },
  {
   "cell_type": "markdown",
   "metadata": {},
   "source": [
    "#### Get Vector Input (X)"
   ]
  },
  {
   "cell_type": "code",
   "execution_count": 4,
   "metadata": {},
   "outputs": [],
   "source": [
    "model = SentenceTransformer('distiluse-base-multilingual-cased-v2')"
   ]
  },
  {
   "cell_type": "code",
   "execution_count": 5,
   "metadata": {},
   "outputs": [],
   "source": [
    "X = model.encode(df_hscode4['hscode4_text'].values, convert_to_tensor=True)"
   ]
  },
  {
   "cell_type": "code",
   "execution_count": 6,
   "metadata": {},
   "outputs": [
    {
     "data": {
      "text/plain": [
       "torch.Size([2427, 512])"
      ]
     },
     "execution_count": 6,
     "metadata": {},
     "output_type": "execute_result"
    }
   ],
   "source": [
    "X.shape"
   ]
  },
  {
   "cell_type": "code",
   "execution_count": 7,
   "metadata": {},
   "outputs": [],
   "source": [
    "corpus_embeddings = X"
   ]
  },
  {
   "cell_type": "markdown",
   "metadata": {},
   "source": [
    "#### Calculate Metric"
   ]
  },
  {
   "cell_type": "code",
   "execution_count": 11,
   "metadata": {},
   "outputs": [],
   "source": [
    "def find_community(threshold):\n",
    "    clusters = util.community_detection(corpus_embeddings, min_community_size=5, threshold=threshold)\n",
    "    df_hscode4['cluster_group_id'] = -1\n",
    "    \n",
    "    for i, cluster in enumerate(clusters):\n",
    "        df_hscode4.iloc[cluster, df_hscode4.columns.get_loc('cluster_group_id')] = i\n",
    "    \n",
    "    dict_result, df_result = calculate_all_metric(df_hscode4, X)\n",
    "    dict_result['threshold'] = threshold\n",
    "    \n",
    "    return  dict_result, df_result"
   ]
  },
  {
   "cell_type": "code",
   "execution_count": 12,
   "metadata": {},
   "outputs": [
    {
     "name": "stdout",
     "output_type": "stream",
     "text": [
      "{'acc_mean': 0.8957830778368101, 'silhouette': -0.11445291, 'cluster_size': 33, 'n_noise': 8, 'n_top_20_cluster': array([1898,  166,   51,   44,   35,   25,   18,   18,   11,   10,    9,\n",
      "          9,    8,    8,    8,    8,    7,    7,    6,    6]), 'threshold': 0.15}\n",
      "{'acc_mean': 0.8374593970649103, 'silhouette': -0.07093075, 'cluster_size': 46, 'n_noise': 14, 'n_top_20_cluster': array([1597,  227,  103,   60,   46,   25,   20,   16,   15,   15,   14,\n",
      "         14,   14,   12,   12,   12,   11,   11,   10,    9]), 'threshold': 0.2}\n",
      "{'acc_mean': 0.7329950791520203, 'silhouette': -0.088755004, 'cluster_size': 63, 'n_noise': 28, 'n_top_20_cluster': array([1263,  226,  138,  113,   50,   37,   36,   27,   26,   26,   18,\n",
      "         16,   15,   15,   14,   14,   14,   13,   13,   12]), 'threshold': 0.25}\n",
      "{'acc_mean': 0.6010602482779458, 'silhouette': -0.08280172, 'cluster_size': 87, 'n_noise': 50, 'n_top_20_cluster': array([919, 213, 114,  89,  83,  60,  38,  32,  31,  29,  28,  25,  25,\n",
      "        22,  19,  19,  19,  18,  18,  18]), 'threshold': 0.30000000000000004}\n",
      "{'acc_mean': 0.4820311081018704, 'silhouette': -0.08548705, 'cluster_size': 114, 'n_noise': 83, 'n_top_20_cluster': array([602, 152, 125,  92,  90,  76,  55,  52,  39,  34,  32,  29,  28,\n",
      "        27,  25,  23,  23,  23,  22,  21]), 'threshold': 0.3500000000000001}\n",
      "{'acc_mean': 0.4445862494513668, 'silhouette': -0.0782195, 'cluster_size': 135, 'n_noise': 167, 'n_top_20_cluster': array([383, 101,  98,  88,  86,  77,  70,  44,  40,  39,  33,  33,  30,\n",
      "        25,  25,  25,  24,  23,  22,  21]), 'threshold': 0.40000000000000013}\n",
      "{'acc_mean': 0.4052404433891514, 'silhouette': -0.07010777, 'cluster_size': 157, 'n_noise': 304, 'n_top_20_cluster': array([229,  91,  84,  76,  73,  56,  43,  43,  38,  38,  34,  31,  30,\n",
      "        29,  26,  26,  25,  24,  24,  21]), 'threshold': 0.45000000000000007}\n",
      "{'acc_mean': 0.3854004522373195, 'silhouette': -0.06904252, 'cluster_size': 166, 'n_noise': 521, 'n_top_20_cluster': array([112,  73,  70,  70,  51,  46,  41,  41,  35,  30,  26,  24,  22,\n",
      "        22,  21,  20,  20,  20,  18,  17]), 'threshold': 0.5000000000000001}\n",
      "{'acc_mean': 0.35034311024958775, 'silhouette': -0.07348254, 'cluster_size': 164, 'n_noise': 830, 'n_top_20_cluster': array([53, 49, 47, 43, 39, 33, 28, 28, 27, 27, 25, 21, 20, 19, 19, 18, 18,\n",
      "       15, 15, 15]), 'threshold': 0.5500000000000002}\n",
      "{'acc_mean': 0.328020913156763, 'silhouette': -0.08340765, 'cluster_size': 147, 'n_noise': 1164, 'n_top_20_cluster': array([42, 31, 27, 26, 26, 25, 21, 19, 19, 18, 18, 18, 18, 18, 17, 16, 16,\n",
      "       15, 14, 14]), 'threshold': 0.6000000000000002}\n",
      "{'acc_mean': 0.24137854849171095, 'silhouette': -0.124044426, 'cluster_size': 106, 'n_noise': 1595, 'n_top_20_cluster': array([35, 20, 19, 17, 17, 17, 16, 16, 14, 14, 14, 13, 13, 13, 13, 12, 12,\n",
      "       11, 11, 11]), 'threshold': 0.6500000000000002}\n",
      "{'acc_mean': 0.15742805015162417, 'silhouette': -0.15932788, 'cluster_size': 63, 'n_noise': 1952, 'n_top_20_cluster': array([26, 16, 14, 13, 13, 12, 12, 12, 11, 11, 10, 10, 10,  9,  9,  8,  8,\n",
      "        8,  8,  8]), 'threshold': 0.7000000000000002}\n",
      "{'acc_mean': 0.10473980267225715, 'silhouette': -0.17892574, 'cluster_size': 41, 'n_noise': 2147, 'n_top_20_cluster': array([22, 11, 11, 10,  9,  9,  8,  8,  8,  8,  7,  7,  7,  7,  7,  6,  6,\n",
      "        6,  6,  6]), 'threshold': 0.7500000000000002}\n",
      "{'acc_mean': 0.04467803097538472, 'silhouette': -0.18122777, 'cluster_size': 17, 'n_noise': 2304, 'n_top_20_cluster': array([15, 10, 10,  9,  9,  8,  7,  7,  6,  6,  6,  5,  5,  5,  5,  5,  5]), 'threshold': 0.8000000000000003}\n",
      "{'acc_mean': 0.02285450251731616, 'silhouette': -0.18157975, 'cluster_size': 10, 'n_noise': 2356, 'n_top_20_cluster': array([11,  9,  9,  8,  7,  6,  6,  5,  5,  5]), 'threshold': 0.8500000000000002}\n",
      "{'acc_mean': 0.0047593390804597695, 'silhouette': -0.05689453, 'cluster_size': 3, 'n_noise': 2409, 'n_top_20_cluster': array([6, 6, 6]), 'threshold': 0.9000000000000002}\n",
      "{'acc_mean': 0.0, 'silhouette': 0.0, 'cluster_size': 0, 'n_noise': 2427, 'n_top_20_cluster': array([], dtype=int64), 'threshold': 0.9500000000000003}\n"
     ]
    }
   ],
   "source": [
    "result_list = []\n",
    "for threshold in np.arange(0.15, 1.0, 0.05):    \n",
    "    dict_result, df_result = find_community(threshold=threshold)\n",
    "    result_list.append(dict_result)\n",
    "    print(dict_result)"
   ]
  },
  {
   "cell_type": "code",
   "execution_count": 13,
   "metadata": {},
   "outputs": [],
   "source": [
    "df_result_all = pd.DataFrame(result_list)\n",
    "df_result_all.to_csv('commnity_detection_output.csv',index=False, sep='\\t')"
   ]
  },
  {
   "cell_type": "code",
   "execution_count": null,
   "metadata": {},
   "outputs": [],
   "source": [
    "# dict_result, df_result = find_community(threshold=0.5)"
   ]
  }
 ],
 "metadata": {
  "kernelspec": {
   "display_name": "Python 3.8.15 ('mdm')",
   "language": "python",
   "name": "python3"
  },
  "language_info": {
   "codemirror_mode": {
    "name": "ipython",
    "version": 3
   },
   "file_extension": ".py",
   "mimetype": "text/x-python",
   "name": "python",
   "nbconvert_exporter": "python",
   "pygments_lexer": "ipython3",
   "version": "3.8.15"
  },
  "vscode": {
   "interpreter": {
    "hash": "c2efc473d0a0d50c19a5adbeac08e391174523270bbcd5ecc02a4aa5f4c81327"
   }
  }
 },
 "nbformat": 4,
 "nbformat_minor": 2
}
