{
 "cells": [
  {
   "cell_type": "code",
   "execution_count": 2,
   "metadata": {},
   "outputs": [],
   "source": [
    "import pandas as pd\n",
    "from sentence_transformers import SentenceTransformer, util"
   ]
  },
  {
   "cell_type": "code",
   "execution_count": 6,
   "metadata": {},
   "outputs": [],
   "source": [
    "# ! pip install -U sentence-transformers"
   ]
  },
  {
   "cell_type": "code",
   "execution_count": 14,
   "metadata": {},
   "outputs": [],
   "source": [
    "# df = pd.read_csv('dataset/text_distance/dataset.csv')\n",
    "df = pd.read_csv('dataset/semantic_similarity/dataset.csv')"
   ]
  },
  {
   "cell_type": "code",
   "execution_count": 31,
   "metadata": {},
   "outputs": [],
   "source": [
    "# df"
   ]
  },
  {
   "cell_type": "code",
   "execution_count": 68,
   "metadata": {},
   "outputs": [
    {
     "data": {
      "text/plain": [
       "array(['ธัญพืช', 'Cereals',\n",
       "       'ครั่ง รวมทั้งกัม เรซิน น้ำเลี้ยง(แซบ) และสิ่งสกัดอื่นๆ จากพืช',\n",
       "       'Lac ; gum, resins and other vegetable saps and extracts', nan,\n",
       "       'ไขมันและน้ำมันที่ได้จากสัตว์หรือพืช และผลิตภัณฑ์ที่แยกได้จากไขมันและน้ำมันดังกล่าว ไขมันที่บริโภคซึ่งจัดทำแล้ว ไขที่ได้จากสัตว์หรือพืช',\n",
       "       'Animal or vegetable fats and oils and their cleavage products ; prepared edible fats ; animal or vegetable waxes'],\n",
       "      dtype=object)"
      ]
     },
     "execution_count": 68,
     "metadata": {},
     "output_type": "execute_result"
    }
   ],
   "source": [
    "df['Key'].unique()"
   ]
  },
  {
   "cell_type": "code",
   "execution_count": null,
   "metadata": {},
   "outputs": [],
   "source": []
  },
  {
   "cell_type": "code",
   "execution_count": 3,
   "metadata": {},
   "outputs": [],
   "source": [
    "model = SentenceTransformer('distiluse-base-multilingual-cased-v2')"
   ]
  },
  {
   "cell_type": "code",
   "execution_count": null,
   "metadata": {},
   "outputs": [],
   "source": []
  },
  {
   "cell_type": "code",
   "execution_count": 38,
   "metadata": {},
   "outputs": [
    {
     "data": {
      "text/plain": [
       "array(['รองศาสตราจารย์ ชัชชาติ สิทธิพันธุ์', 'ธงไชย แมคอินไตย์',\n",
       "       'บริษัท ซีพี ออลล์ จํากัด (มหาชน)',\n",
       "       'CP ALL PUBLIC COMPANY LIMITED', 'บริษัท ปตท. จำกัด (มหาชน)',\n",
       "       'PTT Public Company Limited '], dtype=object)"
      ]
     },
     "execution_count": 38,
     "metadata": {},
     "output_type": "execute_result"
    }
   ],
   "source": [
    "sentences2"
   ]
  },
  {
   "cell_type": "code",
   "execution_count": null,
   "metadata": {},
   "outputs": [],
   "source": []
  },
  {
   "cell_type": "code",
   "execution_count": null,
   "metadata": {},
   "outputs": [],
   "source": []
  },
  {
   "cell_type": "code",
   "execution_count": 15,
   "metadata": {},
   "outputs": [],
   "source": [
    "sentences1 = df['Query'].values\n",
    "sentences2 = df['Key'].unique()"
   ]
  },
  {
   "cell_type": "code",
   "execution_count": 18,
   "metadata": {},
   "outputs": [
    {
     "data": {
      "text/html": [
       "<div>\n",
       "<style scoped>\n",
       "    .dataframe tbody tr th:only-of-type {\n",
       "        vertical-align: middle;\n",
       "    }\n",
       "\n",
       "    .dataframe tbody tr th {\n",
       "        vertical-align: top;\n",
       "    }\n",
       "\n",
       "    .dataframe thead th {\n",
       "        text-align: right;\n",
       "    }\n",
       "</style>\n",
       "<table border=\"1\" class=\"dataframe\">\n",
       "  <thead>\n",
       "    <tr style=\"text-align: right;\">\n",
       "      <th></th>\n",
       "      <th>0</th>\n",
       "    </tr>\n",
       "  </thead>\n",
       "  <tbody>\n",
       "    <tr>\n",
       "      <th>0</th>\n",
       "      <td>ข้าวโพด</td>\n",
       "    </tr>\n",
       "    <tr>\n",
       "      <th>1</th>\n",
       "      <td>Maize (corn).</td>\n",
       "    </tr>\n",
       "    <tr>\n",
       "      <th>2</th>\n",
       "      <td>ข้าว</td>\n",
       "    </tr>\n",
       "    <tr>\n",
       "      <th>3</th>\n",
       "      <td>Rice.</td>\n",
       "    </tr>\n",
       "    <tr>\n",
       "      <th>4</th>\n",
       "      <td>น้ำเลี้ยง (แซป) และสิ่งสกัดจากพืช สารจำพวกเพกต...</td>\n",
       "    </tr>\n",
       "    <tr>\n",
       "      <th>5</th>\n",
       "      <td>Vegetable saps and extracts; pectic substances...</td>\n",
       "    </tr>\n",
       "    <tr>\n",
       "      <th>6</th>\n",
       "      <td>น้ำมันมะพร้าว น้ำมันเนื้อในเมล็ดปาล์ม น้ำมันบา...</td>\n",
       "    </tr>\n",
       "    <tr>\n",
       "      <th>7</th>\n",
       "      <td>Coconut (copra), palm kernel or babassu oil an...</td>\n",
       "    </tr>\n",
       "    <tr>\n",
       "      <th>8</th>\n",
       "      <td>ไขมันและน้ำมันชนิดระเหยยากอื่น ๆ ที่ได้จากพืช ...</td>\n",
       "    </tr>\n",
       "    <tr>\n",
       "      <th>9</th>\n",
       "      <td>Other fixed vegetable fats and oils (including...</td>\n",
       "    </tr>\n",
       "    <tr>\n",
       "      <th>10</th>\n",
       "      <td>ไขมันหรือน้ำมันที่ได้จากสัตว์หรือพืชและเศษของข...</td>\n",
       "    </tr>\n",
       "    <tr>\n",
       "      <th>11</th>\n",
       "      <td>Animal or vegetable fats and oils and their fr...</td>\n",
       "    </tr>\n",
       "  </tbody>\n",
       "</table>\n",
       "</div>"
      ],
      "text/plain": [
       "                                                    0\n",
       "0                                             ข้าวโพด\n",
       "1                                       Maize (corn).\n",
       "2                                                ข้าว\n",
       "3                                               Rice.\n",
       "4   น้ำเลี้ยง (แซป) และสิ่งสกัดจากพืช สารจำพวกเพกต...\n",
       "5   Vegetable saps and extracts; pectic substances...\n",
       "6   น้ำมันมะพร้าว น้ำมันเนื้อในเมล็ดปาล์ม น้ำมันบา...\n",
       "7   Coconut (copra), palm kernel or babassu oil an...\n",
       "8   ไขมันและน้ำมันชนิดระเหยยากอื่น ๆ ที่ได้จากพืช ...\n",
       "9   Other fixed vegetable fats and oils (including...\n",
       "10  ไขมันหรือน้ำมันที่ได้จากสัตว์หรือพืชและเศษของข...\n",
       "11  Animal or vegetable fats and oils and their fr..."
      ]
     },
     "execution_count": 18,
     "metadata": {},
     "output_type": "execute_result"
    }
   ],
   "source": [
    "pd.DataFrame(sentences1)"
   ]
  },
  {
   "cell_type": "code",
   "execution_count": 16,
   "metadata": {},
   "outputs": [
    {
     "data": {
      "text/html": [
       "<div>\n",
       "<style scoped>\n",
       "    .dataframe tbody tr th:only-of-type {\n",
       "        vertical-align: middle;\n",
       "    }\n",
       "\n",
       "    .dataframe tbody tr th {\n",
       "        vertical-align: top;\n",
       "    }\n",
       "\n",
       "    .dataframe thead th {\n",
       "        text-align: right;\n",
       "    }\n",
       "</style>\n",
       "<table border=\"1\" class=\"dataframe\">\n",
       "  <thead>\n",
       "    <tr style=\"text-align: right;\">\n",
       "      <th></th>\n",
       "      <th>0</th>\n",
       "    </tr>\n",
       "  </thead>\n",
       "  <tbody>\n",
       "    <tr>\n",
       "      <th>0</th>\n",
       "      <td>ธัญพืช</td>\n",
       "    </tr>\n",
       "    <tr>\n",
       "      <th>1</th>\n",
       "      <td>Cereals</td>\n",
       "    </tr>\n",
       "    <tr>\n",
       "      <th>2</th>\n",
       "      <td>ครั่ง รวมทั้งกัม เรซิน น้ำเลี้ยง(แซบ) และสิ่งส...</td>\n",
       "    </tr>\n",
       "    <tr>\n",
       "      <th>3</th>\n",
       "      <td>Lac ; gum, resins and other vegetable saps and...</td>\n",
       "    </tr>\n",
       "    <tr>\n",
       "      <th>4</th>\n",
       "      <td>ไขมันและน้ำมันที่ได้จากสัตว์หรือพืช และผลิตภัณ...</td>\n",
       "    </tr>\n",
       "    <tr>\n",
       "      <th>5</th>\n",
       "      <td>Animal or vegetable fats and oils and their cl...</td>\n",
       "    </tr>\n",
       "  </tbody>\n",
       "</table>\n",
       "</div>"
      ],
      "text/plain": [
       "                                                   0\n",
       "0                                             ธัญพืช\n",
       "1                                            Cereals\n",
       "2  ครั่ง รวมทั้งกัม เรซิน น้ำเลี้ยง(แซบ) และสิ่งส...\n",
       "3  Lac ; gum, resins and other vegetable saps and...\n",
       "4  ไขมันและน้ำมันที่ได้จากสัตว์หรือพืช และผลิตภัณ...\n",
       "5  Animal or vegetable fats and oils and their cl..."
      ]
     },
     "execution_count": 16,
     "metadata": {},
     "output_type": "execute_result"
    }
   ],
   "source": [
    "pd.DataFrame(sentences2)"
   ]
  },
  {
   "cell_type": "code",
   "execution_count": 19,
   "metadata": {},
   "outputs": [
    {
     "name": "stdout",
     "output_type": "stream",
     "text": [
      "0 \t\t 0 \t\t Score: 0.4356\n",
      "0 \t\t 1 \t\t Score: 0.3033\n",
      "0 \t\t 4 \t\t Score: 0.0064\n",
      "0 \t\t 2 \t\t Score: 0.0026\n",
      "0 \t\t 3 \t\t Score: -0.0361\n",
      "0 \t\t 5 \t\t Score: -0.0476\n",
      "\n",
      "\n",
      "1 \t\t 1 \t\t Score: 0.6976\n",
      "1 \t\t 0 \t\t Score: 0.5082\n",
      "1 \t\t 2 \t\t Score: 0.2769\n",
      "1 \t\t 4 \t\t Score: 0.1190\n",
      "1 \t\t 3 \t\t Score: 0.0752\n",
      "1 \t\t 5 \t\t Score: -0.0382\n",
      "\n",
      "\n",
      "2 \t\t 0 \t\t Score: 0.4706\n",
      "2 \t\t 1 \t\t Score: 0.3362\n",
      "2 \t\t 2 \t\t Score: 0.0118\n",
      "2 \t\t 4 \t\t Score: -0.0074\n",
      "2 \t\t 3 \t\t Score: -0.0389\n",
      "2 \t\t 5 \t\t Score: -0.0564\n",
      "\n",
      "\n",
      "3 \t\t 1 \t\t Score: 0.6313\n",
      "3 \t\t 0 \t\t Score: 0.5102\n",
      "3 \t\t 2 \t\t Score: 0.2498\n",
      "3 \t\t 4 \t\t Score: 0.0948\n",
      "3 \t\t 3 \t\t Score: 0.0699\n",
      "3 \t\t 5 \t\t Score: -0.0420\n",
      "\n",
      "\n",
      "4 \t\t 2 \t\t Score: 0.5760\n",
      "4 \t\t 4 \t\t Score: 0.3594\n",
      "4 \t\t 3 \t\t Score: 0.3137\n",
      "4 \t\t 5 \t\t Score: 0.2168\n",
      "4 \t\t 0 \t\t Score: 0.1281\n",
      "4 \t\t 1 \t\t Score: 0.0061\n",
      "\n",
      "\n",
      "5 \t\t 3 \t\t Score: 0.5464\n",
      "5 \t\t 2 \t\t Score: 0.4232\n",
      "5 \t\t 5 \t\t Score: 0.4171\n",
      "5 \t\t 4 \t\t Score: 0.3770\n",
      "5 \t\t 0 \t\t Score: 0.1311\n",
      "5 \t\t 1 \t\t Score: 0.0209\n",
      "\n",
      "\n",
      "6 \t\t 4 \t\t Score: 0.5065\n",
      "6 \t\t 5 \t\t Score: 0.3169\n",
      "6 \t\t 2 \t\t Score: 0.1331\n",
      "6 \t\t 3 \t\t Score: 0.0725\n",
      "6 \t\t 0 \t\t Score: 0.0583\n",
      "6 \t\t 1 \t\t Score: -0.0351\n",
      "\n",
      "\n",
      "7 \t\t 4 \t\t Score: 0.3274\n",
      "7 \t\t 5 \t\t Score: 0.2585\n",
      "7 \t\t 2 \t\t Score: 0.1789\n",
      "7 \t\t 1 \t\t Score: 0.1194\n",
      "7 \t\t 0 \t\t Score: 0.0919\n",
      "7 \t\t 3 \t\t Score: 0.0651\n",
      "\n",
      "\n",
      "8 \t\t 4 \t\t Score: 0.4654\n",
      "8 \t\t 2 \t\t Score: 0.3616\n",
      "8 \t\t 5 \t\t Score: 0.2909\n",
      "8 \t\t 3 \t\t Score: 0.2734\n",
      "8 \t\t 0 \t\t Score: 0.0989\n",
      "8 \t\t 1 \t\t Score: 0.0333\n",
      "\n",
      "\n",
      "9 \t\t 5 \t\t Score: 0.4602\n",
      "9 \t\t 4 \t\t Score: 0.3740\n",
      "9 \t\t 2 \t\t Score: 0.2809\n",
      "9 \t\t 3 \t\t Score: 0.2490\n",
      "9 \t\t 1 \t\t Score: 0.1079\n",
      "9 \t\t 0 \t\t Score: 0.0905\n",
      "\n",
      "\n",
      "10 \t\t 4 \t\t Score: 0.7108\n",
      "10 \t\t 5 \t\t Score: 0.4351\n",
      "10 \t\t 2 \t\t Score: 0.3273\n",
      "10 \t\t 3 \t\t Score: 0.1766\n",
      "10 \t\t 0 \t\t Score: 0.1430\n",
      "10 \t\t 1 \t\t Score: 0.0029\n",
      "\n",
      "\n",
      "11 \t\t 5 \t\t Score: 0.6745\n",
      "11 \t\t 4 \t\t Score: 0.4943\n",
      "11 \t\t 3 \t\t Score: 0.2490\n",
      "11 \t\t 2 \t\t Score: 0.1548\n",
      "11 \t\t 0 \t\t Score: 0.0170\n",
      "11 \t\t 1 \t\t Score: -0.1100\n",
      "\n",
      "\n"
     ]
    }
   ],
   "source": [
    "#Compute embedding for both lists\n",
    "embeddings1 = model.encode(sentences1, convert_to_tensor=True)\n",
    "embeddings2 = model.encode(sentences2, convert_to_tensor=True)\n",
    "\n",
    "#Compute cosine-similarities\n",
    "cosine_scores = util.cos_sim(embeddings1, embeddings2)\n",
    "\n",
    "#Output the pairs with their score\n",
    "\n",
    "\n",
    "for i in range(len(sentences1)):\n",
    "    sort_index = cosine_scores[i].argsort(descending=True)\n",
    "    for j in sort_index:\n",
    "#         print(\"{} \\t\\t {} \\t\\t Score: {:.4f}\".format(sentences1[i], sentences2[j], cosine_scores[i][j]))\n",
    "        print(\"{} \\t\\t {} \\t\\t Score: {:.4f}\".format(i, j, cosine_scores[i][j]))\n",
    "    print('\\n')"
   ]
  },
  {
   "cell_type": "code",
   "execution_count": 65,
   "metadata": {},
   "outputs": [
    {
     "data": {
      "text/plain": [
       "tensor([4, 1, 2, 0, 5, 3])"
      ]
     },
     "execution_count": 65,
     "metadata": {},
     "output_type": "execute_result"
    }
   ],
   "source": [
    "cosine_scores[0].argsort(descending=True)"
   ]
  },
  {
   "cell_type": "code",
   "execution_count": 54,
   "metadata": {},
   "outputs": [
    {
     "data": {
      "text/plain": [
       "6"
      ]
     },
     "execution_count": 54,
     "metadata": {},
     "output_type": "execute_result"
    }
   ],
   "source": [
    "len(embeddings2)"
   ]
  },
  {
   "cell_type": "code",
   "execution_count": null,
   "metadata": {},
   "outputs": [],
   "source": []
  },
  {
   "cell_type": "code",
   "execution_count": 15,
   "metadata": {},
   "outputs": [
    {
     "name": "stdout",
     "output_type": "stream",
     "text": [
      "Cosine-Similarity: tensor([[0.3632]])\n"
     ]
    }
   ],
   "source": [
    "emb1 = model.encode(\"ชัชชาติ\")\n",
    "emb2 = model.encode(\"รองศาสตราจารย์ ชัชชาติ สิทธิพันธุ์\")\n",
    "\n",
    "cos_sim = util.cos_sim(emb1, emb2)\n",
    "print(\"Cosine-Similarity:\", cos_sim)"
   ]
  },
  {
   "cell_type": "code",
   "execution_count": 20,
   "metadata": {},
   "outputs": [
    {
     "name": "stdout",
     "output_type": "stream",
     "text": [
      "Cosine-Similarity: tensor([[0.5646]])\n"
     ]
    }
   ],
   "source": [
    "emb1 = model.encode(\"เบิร์ด ธงไชย\")\n",
    "emb2 = model.encode(\"ธงไชย แมคอินไตย์\")\n",
    "\n",
    "cos_sim = util.cos_sim(emb1, emb2)\n",
    "print(\"Cosine-Similarity:\", cos_sim)"
   ]
  },
  {
   "cell_type": "code",
   "execution_count": 21,
   "metadata": {},
   "outputs": [
    {
     "name": "stdout",
     "output_type": "stream",
     "text": [
      "Cosine-Similarity: tensor([[0.3990]])\n"
     ]
    }
   ],
   "source": [
    "emb1 = model.encode(\"ชัชชาติ\")\n",
    "emb2 = model.encode(\"ธงไชย แมคอินไตย์\")\n",
    "\n",
    "cos_sim = util.cos_sim(emb1, emb2)\n",
    "print(\"Cosine-Similarity:\", cos_sim)"
   ]
  },
  {
   "cell_type": "code",
   "execution_count": null,
   "metadata": {},
   "outputs": [],
   "source": []
  },
  {
   "cell_type": "code",
   "execution_count": null,
   "metadata": {},
   "outputs": [],
   "source": []
  },
  {
   "cell_type": "code",
   "execution_count": 33,
   "metadata": {},
   "outputs": [
    {
     "data": {
      "text/plain": [
       "0.5522875816993464"
      ]
     },
     "execution_count": 33,
     "metadata": {},
     "output_type": "execute_result"
    }
   ],
   "source": [
    "textdistance.jaro_winkler.distance('เบิร์ด ธงไชย', 'รองศาสตราจารย์ ชัชชาติ สิทธิพันธุ์')"
   ]
  },
  {
   "cell_type": "code",
   "execution_count": 36,
   "metadata": {},
   "outputs": [
    {
     "data": {
      "text/plain": [
       "0.050000000000000044"
      ]
     },
     "execution_count": 36,
     "metadata": {},
     "output_type": "execute_result"
    }
   ],
   "source": [
    "textdistance.jaro_winkler.distance('เบิร์ด ธงไชย', 'เบิร์ด ธงไชยdddd')"
   ]
  },
  {
   "cell_type": "code",
   "execution_count": 34,
   "metadata": {},
   "outputs": [
    {
     "data": {
      "text/plain": [
       "0.5277777777777779"
      ]
     },
     "execution_count": 34,
     "metadata": {},
     "output_type": "execute_result"
    }
   ],
   "source": [
    "textdistance.jaro_winkler.distance('เบิร์ด ธงไชย', 'บริษัท')"
   ]
  },
  {
   "cell_type": "code",
   "execution_count": 7,
   "metadata": {},
   "outputs": [
    {
     "name": "stdout",
     "output_type": "stream",
     "text": [
      "Collecting textdistance\n",
      "  Downloading textdistance-4.5.0-py3-none-any.whl (31 kB)\n",
      "Installing collected packages: textdistance\n",
      "Successfully installed textdistance-4.5.0\n"
     ]
    }
   ],
   "source": [
    "! pip install textdistance"
   ]
  }
 ],
 "metadata": {
  "kernelspec": {
   "display_name": "Python 3 (ipykernel)",
   "language": "python",
   "name": "python3"
  },
  "language_info": {
   "codemirror_mode": {
    "name": "ipython",
    "version": 3
   },
   "file_extension": ".py",
   "mimetype": "text/x-python",
   "name": "python",
   "nbconvert_exporter": "python",
   "pygments_lexer": "ipython3",
   "version": "3.8.15"
  }
 },
 "nbformat": 4,
 "nbformat_minor": 2
}
