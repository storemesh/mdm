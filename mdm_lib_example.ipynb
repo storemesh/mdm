{
 "cells": [
  {
   "cell_type": "code",
   "execution_count": 1,
   "metadata": {},
   "outputs": [],
   "source": [
    "%load_ext autoreload\n",
    "%autoreload 2"
   ]
  },
  {
   "cell_type": "code",
   "execution_count": 59,
   "metadata": {},
   "outputs": [],
   "source": [
    "from dsmlibrary.mdm import MDM\n",
    "import pandas as pd\n",
    "\n",
    "from utils import prepare_dataset_en"
   ]
  },
  {
   "cell_type": "code",
   "execution_count": 69,
   "metadata": {},
   "outputs": [
    {
     "data": {
      "text/html": [
       "<div>\n",
       "<style scoped>\n",
       "    .dataframe tbody tr th:only-of-type {\n",
       "        vertical-align: middle;\n",
       "    }\n",
       "\n",
       "    .dataframe tbody tr th {\n",
       "        vertical-align: top;\n",
       "    }\n",
       "\n",
       "    .dataframe thead th {\n",
       "        text-align: right;\n",
       "    }\n",
       "</style>\n",
       "<table border=\"1\" class=\"dataframe\">\n",
       "  <thead>\n",
       "    <tr style=\"text-align: right;\">\n",
       "      <th></th>\n",
       "      <th>HSCode2</th>\n",
       "      <th>hscode4_text</th>\n",
       "    </tr>\n",
       "  </thead>\n",
       "  <tbody>\n",
       "    <tr>\n",
       "      <th>0</th>\n",
       "      <td>01</td>\n",
       "      <td>Live horses, donkeys and mules</td>\n",
       "    </tr>\n",
       "    <tr>\n",
       "      <th>1</th>\n",
       "      <td>01</td>\n",
       "      <td>Bovine animals live</td>\n",
       "    </tr>\n",
       "    <tr>\n",
       "      <th>2</th>\n",
       "      <td>01</td>\n",
       "      <td>live pig</td>\n",
       "    </tr>\n",
       "    <tr>\n",
       "      <th>3</th>\n",
       "      <td>01</td>\n",
       "      <td>Live sheep and goats</td>\n",
       "    </tr>\n",
       "    <tr>\n",
       "      <th>4</th>\n",
       "      <td>01</td>\n",
       "      <td>Live poultry include gallus domesticus, ducks,...</td>\n",
       "    </tr>\n",
       "    <tr>\n",
       "      <th>5</th>\n",
       "      <td>01</td>\n",
       "      <td>Live animals other than those listed in headin...</td>\n",
       "    </tr>\n",
       "    <tr>\n",
       "      <th>6</th>\n",
       "      <td>02</td>\n",
       "      <td>Bovine meat, fresh or chilled</td>\n",
       "    </tr>\n",
       "    <tr>\n",
       "      <th>7</th>\n",
       "      <td>02</td>\n",
       "      <td>Frozen Bovine Meat</td>\n",
       "    </tr>\n",
       "    <tr>\n",
       "      <th>8</th>\n",
       "      <td>02</td>\n",
       "      <td>Pork, fresh, chilled or frozen</td>\n",
       "    </tr>\n",
       "    <tr>\n",
       "      <th>9</th>\n",
       "      <td>02</td>\n",
       "      <td>Lamb or goat meat, fresh, chilled or frozen</td>\n",
       "    </tr>\n",
       "    <tr>\n",
       "      <th>10</th>\n",
       "      <td>02</td>\n",
       "      <td>Horse, donkey or mule meat, fresh, chilled or ...</td>\n",
       "    </tr>\n",
       "    <tr>\n",
       "      <th>11</th>\n",
       "      <td>02</td>\n",
       "      <td>Other edible offal of cattle, buffaloes, swine...</td>\n",
       "    </tr>\n",
       "    <tr>\n",
       "      <th>12</th>\n",
       "      <td>02</td>\n",
       "      <td>Meat and other edible parts of poultry raised ...</td>\n",
       "    </tr>\n",
       "    <tr>\n",
       "      <th>13</th>\n",
       "      <td>02</td>\n",
       "      <td>meat and other edible offal of other animals O...</td>\n",
       "    </tr>\n",
       "    <tr>\n",
       "      <th>14</th>\n",
       "      <td>02</td>\n",
       "      <td>lard without meat and poultry fat, unfried or ...</td>\n",
       "    </tr>\n",
       "  </tbody>\n",
       "</table>\n",
       "</div>"
      ],
      "text/plain": [
       "   HSCode2                                       hscode4_text\n",
       "0       01                     Live horses, donkeys and mules\n",
       "1       01                                Bovine animals live\n",
       "2       01                                           live pig\n",
       "3       01                               Live sheep and goats\n",
       "4       01  Live poultry include gallus domesticus, ducks,...\n",
       "5       01  Live animals other than those listed in headin...\n",
       "6       02                      Bovine meat, fresh or chilled\n",
       "7       02                                 Frozen Bovine Meat\n",
       "8       02                     Pork, fresh, chilled or frozen\n",
       "9       02        Lamb or goat meat, fresh, chilled or frozen\n",
       "10      02  Horse, donkey or mule meat, fresh, chilled or ...\n",
       "11      02  Other edible offal of cattle, buffaloes, swine...\n",
       "12      02  Meat and other edible parts of poultry raised ...\n",
       "13      02  meat and other edible offal of other animals O...\n",
       "14      02  lard without meat and poultry fat, unfried or ..."
      ]
     },
     "execution_count": 69,
     "metadata": {},
     "output_type": "execute_result"
    }
   ],
   "source": [
    "data = [\n",
    "    {'HSCode2': '01', 'hscode4_text': 'Live horses, donkeys and mules'},\n",
    "    {'HSCode2': '01', 'hscode4_text': 'Bovine animals live'},\n",
    "    {'HSCode2': '01', 'hscode4_text': 'live pig'},\n",
    "    {'HSCode2': '01', 'hscode4_text': 'Live sheep and goats'},\n",
    "    {'HSCode2': '01', 'hscode4_text': 'Live poultry include gallus domesticus, ducks, geese, turkeys and guinea fowl.'},\n",
    "    {'HSCode2': '01', 'hscode4_text': 'Live animals other than those listed in headings 01.01 to 01.05 (horses, donkeys and mules, bovine animals, pigs, sheep and goats, poultry (chickens, gallus domesticus, ducks, geese, turkeys). and guinea fowl))'},\n",
    "    {'HSCode2': '02', 'hscode4_text': 'Bovine meat, fresh or chilled'},\n",
    "    {'HSCode2': '02', 'hscode4_text': 'Frozen Bovine Meat'},\n",
    "    {'HSCode2': '02', 'hscode4_text': 'Pork, fresh, chilled or frozen'},\n",
    "    {'HSCode2': '02', 'hscode4_text': 'Lamb or goat meat, fresh, chilled or frozen'},\n",
    "    {'HSCode2': '02', 'hscode4_text': 'Horse, donkey or mule meat, fresh, chilled or frozen'},\n",
    "    {'HSCode2': '02', 'hscode4_text': 'Other edible offal of cattle, buffaloes, swine, sheep, goats, horses, donkeys or mules, fresh, chilled or frozen.'},\n",
    "    {'HSCode2': '02', 'hscode4_text': 'Meat and other edible parts of poultry raised in heading 01.05, fresh, chilled or frozen.'},\n",
    "    {'HSCode2': '02', 'hscode4_text': 'meat and other edible offal of other animals Other than those specified in headings 02.01 to 02.07 (meat and other edible offal of cattle, swine, sheep, goats, horses, donkeys or mules, domesticated poultry). (Gallus domesticus, turkey, duck, goose or guinea fowl)), fresh, chilled or'},\n",
    "    {'HSCode2': '02', 'hscode4_text': 'lard without meat and poultry fat, unfried or otherwise extracted, fresh, chilled or frozen, salted, in brine, dried or smoked.'}\n",
    "]\n",
    "df_master = pd.DataFrame(data)\n",
    "df_master"
   ]
  },
  {
   "cell_type": "code",
   "execution_count": 70,
   "metadata": {},
   "outputs": [],
   "source": [
    "mdm_manager = MDM(master_data=df_master, text_column=\"hscode4_text\")"
   ]
  },
  {
   "cell_type": "code",
   "execution_count": 71,
   "metadata": {},
   "outputs": [],
   "source": [
    "text_list = ['Live horses, donkeys and mules', 'Bovine meat, fresh or chilled']\n",
    "\n",
    "indexs, scores = mdm_manager.get_topn_similarity(text_list, topn=3)"
   ]
  },
  {
   "cell_type": "code",
   "execution_count": 72,
   "metadata": {},
   "outputs": [
    {
     "data": {
      "text/plain": [
       "array([[ 0,  5, 10],\n",
       "       [ 6,  8,  7]])"
      ]
     },
     "execution_count": 72,
     "metadata": {},
     "output_type": "execute_result"
    }
   ],
   "source": [
    "indexs"
   ]
  },
  {
   "cell_type": "code",
   "execution_count": 73,
   "metadata": {},
   "outputs": [
    {
     "data": {
      "text/plain": [
       "array([[0.9999999 , 0.753309  , 0.75285095],\n",
       "       [0.9999999 , 0.86802584, 0.817937  ]], dtype=float32)"
      ]
     },
     "execution_count": 73,
     "metadata": {},
     "output_type": "execute_result"
    }
   ],
   "source": [
    "scores"
   ]
  },
  {
   "cell_type": "code",
   "execution_count": 74,
   "metadata": {},
   "outputs": [
    {
     "data": {
      "text/html": [
       "<div>\n",
       "<style scoped>\n",
       "    .dataframe tbody tr th:only-of-type {\n",
       "        vertical-align: middle;\n",
       "    }\n",
       "\n",
       "    .dataframe tbody tr th {\n",
       "        vertical-align: top;\n",
       "    }\n",
       "\n",
       "    .dataframe thead th {\n",
       "        text-align: right;\n",
       "    }\n",
       "</style>\n",
       "<table border=\"1\" class=\"dataframe\">\n",
       "  <thead>\n",
       "    <tr style=\"text-align: right;\">\n",
       "      <th></th>\n",
       "      <th>HSCode2</th>\n",
       "      <th>hscode4_text</th>\n",
       "    </tr>\n",
       "  </thead>\n",
       "  <tbody>\n",
       "    <tr>\n",
       "      <th>0</th>\n",
       "      <td>01</td>\n",
       "      <td>Live horses, donkeys and mules</td>\n",
       "    </tr>\n",
       "    <tr>\n",
       "      <th>5</th>\n",
       "      <td>01</td>\n",
       "      <td>Live animals other than those listed in headin...</td>\n",
       "    </tr>\n",
       "    <tr>\n",
       "      <th>10</th>\n",
       "      <td>02</td>\n",
       "      <td>Horse, donkey or mule meat, fresh, chilled or ...</td>\n",
       "    </tr>\n",
       "  </tbody>\n",
       "</table>\n",
       "</div>"
      ],
      "text/plain": [
       "   HSCode2                                       hscode4_text\n",
       "0       01                     Live horses, donkeys and mules\n",
       "5       01  Live animals other than those listed in headin...\n",
       "10      02  Horse, donkey or mule meat, fresh, chilled or ..."
      ]
     },
     "execution_count": 74,
     "metadata": {},
     "output_type": "execute_result"
    }
   ],
   "source": [
    "df_hscode4.iloc[indexs[0]]"
   ]
  },
  {
   "cell_type": "code",
   "execution_count": 75,
   "metadata": {},
   "outputs": [
    {
     "data": {
      "text/html": [
       "<div>\n",
       "<style scoped>\n",
       "    .dataframe tbody tr th:only-of-type {\n",
       "        vertical-align: middle;\n",
       "    }\n",
       "\n",
       "    .dataframe tbody tr th {\n",
       "        vertical-align: top;\n",
       "    }\n",
       "\n",
       "    .dataframe thead th {\n",
       "        text-align: right;\n",
       "    }\n",
       "</style>\n",
       "<table border=\"1\" class=\"dataframe\">\n",
       "  <thead>\n",
       "    <tr style=\"text-align: right;\">\n",
       "      <th></th>\n",
       "      <th>HSCode2</th>\n",
       "      <th>hscode4_text</th>\n",
       "    </tr>\n",
       "  </thead>\n",
       "  <tbody>\n",
       "    <tr>\n",
       "      <th>6</th>\n",
       "      <td>02</td>\n",
       "      <td>Bovine meat, fresh or chilled</td>\n",
       "    </tr>\n",
       "    <tr>\n",
       "      <th>8</th>\n",
       "      <td>02</td>\n",
       "      <td>Pork, fresh, chilled or frozen</td>\n",
       "    </tr>\n",
       "    <tr>\n",
       "      <th>7</th>\n",
       "      <td>02</td>\n",
       "      <td>Frozen Bovine Meat</td>\n",
       "    </tr>\n",
       "  </tbody>\n",
       "</table>\n",
       "</div>"
      ],
      "text/plain": [
       "  HSCode2                    hscode4_text\n",
       "6      02   Bovine meat, fresh or chilled\n",
       "8      02  Pork, fresh, chilled or frozen\n",
       "7      02              Frozen Bovine Meat"
      ]
     },
     "execution_count": 75,
     "metadata": {},
     "output_type": "execute_result"
    }
   ],
   "source": [
    "df_hscode4.iloc[indexs[1]]"
   ]
  }
 ],
 "metadata": {
  "kernelspec": {
   "display_name": "Python 3.8.15 ('mdm')",
   "language": "python",
   "name": "python3"
  },
  "language_info": {
   "codemirror_mode": {
    "name": "ipython",
    "version": 3
   },
   "file_extension": ".py",
   "mimetype": "text/x-python",
   "name": "python",
   "nbconvert_exporter": "python",
   "pygments_lexer": "ipython3",
   "version": "3.8.15"
  },
  "orig_nbformat": 4,
  "vscode": {
   "interpreter": {
    "hash": "c2efc473d0a0d50c19a5adbeac08e391174523270bbcd5ecc02a4aa5f4c81327"
   }
  }
 },
 "nbformat": 4,
 "nbformat_minor": 2
}
