{
 "cells": [
  {
   "cell_type": "code",
   "execution_count": 1,
   "metadata": {},
   "outputs": [],
   "source": [
    "%load_ext autoreload\n",
    "%autoreload 2"
   ]
  },
  {
   "cell_type": "code",
   "execution_count": 2,
   "metadata": {},
   "outputs": [],
   "source": [
    "import pandas as pd\n",
    "import numpy as np\n",
    "from sentence_transformers import SentenceTransformer, util\n",
    "from sklearn.metrics.pairwise import paired_cosine_distances, paired_euclidean_distances, paired_manhattan_distances\n",
    "from scipy.stats import pearsonr, spearmanr\n",
    "from sklearn import metrics\n",
    "import torch\n",
    "import time\n",
    "import umap\n",
    "import umap.plot\n",
    "import time\n",
    "import itertools\n",
    "from line_profiler import LineProfiler\n",
    "\n",
    "from utils import prepare_dataset, calculate_all_metric, find_spearman_pearson\n",
    "\n",
    "import logging\n",
    "logging.basicConfig(\n",
    "    format='%(asctime)s %(levelname)-8s %(message)s',\n",
    "    datefmt='%Y-%m-%d %H:%M:%S',\n",
    "    level=logging.WARNING,  # set 3rd party logs to warning (for hiding it)\n",
    ")\n",
    "logger = logging.getLogger(__name__)\n",
    "logger.setLevel(logging.INFO)\n",
    "\n",
    "profile = LineProfiler()"
   ]
  },
  {
   "cell_type": "markdown",
   "metadata": {},
   "source": [
    "#### Input"
   ]
  },
  {
   "cell_type": "code",
   "execution_count": 3,
   "metadata": {},
   "outputs": [
    {
     "data": {
      "text/html": [
       "<div>\n",
       "<style scoped>\n",
       "    .dataframe tbody tr th:only-of-type {\n",
       "        vertical-align: middle;\n",
       "    }\n",
       "\n",
       "    .dataframe tbody tr th {\n",
       "        vertical-align: top;\n",
       "    }\n",
       "\n",
       "    .dataframe thead th {\n",
       "        text-align: right;\n",
       "    }\n",
       "</style>\n",
       "<table border=\"1\" class=\"dataframe\">\n",
       "  <thead>\n",
       "    <tr style=\"text-align: right;\">\n",
       "      <th></th>\n",
       "      <th>hscode4_text</th>\n",
       "      <th>HSCode2</th>\n",
       "    </tr>\n",
       "  </thead>\n",
       "  <tbody>\n",
       "    <tr>\n",
       "      <th>0</th>\n",
       "      <td>ม้า ลา และล่อมีชีวิต</td>\n",
       "      <td>01</td>\n",
       "    </tr>\n",
       "    <tr>\n",
       "      <th>1</th>\n",
       "      <td>สัตว์จำพวกโคกระบือ มีชีวิต</td>\n",
       "      <td>01</td>\n",
       "    </tr>\n",
       "    <tr>\n",
       "      <th>2</th>\n",
       "      <td>สุกรมีชีวิต</td>\n",
       "      <td>01</td>\n",
       "    </tr>\n",
       "    <tr>\n",
       "      <th>3</th>\n",
       "      <td>แกะและแพะมีชีวิต</td>\n",
       "      <td>01</td>\n",
       "    </tr>\n",
       "    <tr>\n",
       "      <th>4</th>\n",
       "      <td>สัตว์ปีกเลี้ยงมีชีวิต ได้แก่ ไก่ชนิดแกลลัสโดเม...</td>\n",
       "      <td>01</td>\n",
       "    </tr>\n",
       "    <tr>\n",
       "      <th>...</th>\n",
       "      <td>...</td>\n",
       "      <td>...</td>\n",
       "    </tr>\n",
       "    <tr>\n",
       "      <th>2422</th>\n",
       "      <td>Original engravings, prints and lithographs.  ...</td>\n",
       "      <td>97</td>\n",
       "    </tr>\n",
       "    <tr>\n",
       "      <th>2423</th>\n",
       "      <td>Original sculptures and statuary, in any mater...</td>\n",
       "      <td>97</td>\n",
       "    </tr>\n",
       "    <tr>\n",
       "      <th>2424</th>\n",
       "      <td>Postage or revenue stamps, stamp-postmarks, fi...</td>\n",
       "      <td>97</td>\n",
       "    </tr>\n",
       "    <tr>\n",
       "      <th>2425</th>\n",
       "      <td>Collections and collectors' pieces of zoologic...</td>\n",
       "      <td>97</td>\n",
       "    </tr>\n",
       "    <tr>\n",
       "      <th>2426</th>\n",
       "      <td>Antiques of an age exceeding one hundred years...</td>\n",
       "      <td>97</td>\n",
       "    </tr>\n",
       "  </tbody>\n",
       "</table>\n",
       "<p>2427 rows × 2 columns</p>\n",
       "</div>"
      ],
      "text/plain": [
       "                                           hscode4_text HSCode2\n",
       "0                                  ม้า ลา และล่อมีชีวิต      01\n",
       "1                            สัตว์จำพวกโคกระบือ มีชีวิต      01\n",
       "2                                           สุกรมีชีวิต      01\n",
       "3                                      แกะและแพะมีชีวิต      01\n",
       "4     สัตว์ปีกเลี้ยงมีชีวิต ได้แก่ ไก่ชนิดแกลลัสโดเม...      01\n",
       "...                                                 ...     ...\n",
       "2422  Original engravings, prints and lithographs.  ...      97\n",
       "2423  Original sculptures and statuary, in any mater...      97\n",
       "2424  Postage or revenue stamps, stamp-postmarks, fi...      97\n",
       "2425  Collections and collectors' pieces of zoologic...      97\n",
       "2426  Antiques of an age exceeding one hundred years...      97\n",
       "\n",
       "[2427 rows x 2 columns]"
      ]
     },
     "execution_count": 3,
     "metadata": {},
     "output_type": "execute_result"
    }
   ],
   "source": [
    "df_hscode4 = prepare_dataset()\n",
    "df_hscode4"
   ]
  },
  {
   "cell_type": "code",
   "execution_count": 4,
   "metadata": {},
   "outputs": [
    {
     "data": {
      "text/html": [
       "<div>\n",
       "<style scoped>\n",
       "    .dataframe tbody tr th:only-of-type {\n",
       "        vertical-align: middle;\n",
       "    }\n",
       "\n",
       "    .dataframe tbody tr th {\n",
       "        vertical-align: top;\n",
       "    }\n",
       "\n",
       "    .dataframe thead th {\n",
       "        text-align: right;\n",
       "    }\n",
       "</style>\n",
       "<table border=\"1\" class=\"dataframe\">\n",
       "  <thead>\n",
       "    <tr style=\"text-align: right;\">\n",
       "      <th></th>\n",
       "      <th>hscode4_text_x</th>\n",
       "      <th>HSCode2_x</th>\n",
       "      <th>hscode4_text_y</th>\n",
       "      <th>HSCode2_y</th>\n",
       "      <th>score</th>\n",
       "    </tr>\n",
       "  </thead>\n",
       "  <tbody>\n",
       "    <tr>\n",
       "      <th>0</th>\n",
       "      <td>ม้า ลา และล่อมีชีวิต</td>\n",
       "      <td>01</td>\n",
       "      <td>ม้า ลา และล่อมีชีวิต</td>\n",
       "      <td>01</td>\n",
       "      <td>1.0</td>\n",
       "    </tr>\n",
       "    <tr>\n",
       "      <th>1</th>\n",
       "      <td>ม้า ลา และล่อมีชีวิต</td>\n",
       "      <td>01</td>\n",
       "      <td>สัตว์จำพวกโคกระบือ มีชีวิต</td>\n",
       "      <td>01</td>\n",
       "      <td>1.0</td>\n",
       "    </tr>\n",
       "    <tr>\n",
       "      <th>2</th>\n",
       "      <td>ม้า ลา และล่อมีชีวิต</td>\n",
       "      <td>01</td>\n",
       "      <td>สุกรมีชีวิต</td>\n",
       "      <td>01</td>\n",
       "      <td>1.0</td>\n",
       "    </tr>\n",
       "    <tr>\n",
       "      <th>3</th>\n",
       "      <td>ม้า ลา และล่อมีชีวิต</td>\n",
       "      <td>01</td>\n",
       "      <td>แกะและแพะมีชีวิต</td>\n",
       "      <td>01</td>\n",
       "      <td>1.0</td>\n",
       "    </tr>\n",
       "    <tr>\n",
       "      <th>4</th>\n",
       "      <td>ม้า ลา และล่อมีชีวิต</td>\n",
       "      <td>01</td>\n",
       "      <td>สัตว์ปีกเลี้ยงมีชีวิต ได้แก่ ไก่ชนิดแกลลัสโดเม...</td>\n",
       "      <td>01</td>\n",
       "      <td>1.0</td>\n",
       "    </tr>\n",
       "    <tr>\n",
       "      <th>...</th>\n",
       "      <td>...</td>\n",
       "      <td>...</td>\n",
       "      <td>...</td>\n",
       "      <td>...</td>\n",
       "      <td>...</td>\n",
       "    </tr>\n",
       "    <tr>\n",
       "      <th>5890324</th>\n",
       "      <td>Antiques of an age exceeding one hundred years...</td>\n",
       "      <td>97</td>\n",
       "      <td>Original engravings, prints and lithographs.  ...</td>\n",
       "      <td>97</td>\n",
       "      <td>1.0</td>\n",
       "    </tr>\n",
       "    <tr>\n",
       "      <th>5890325</th>\n",
       "      <td>Antiques of an age exceeding one hundred years...</td>\n",
       "      <td>97</td>\n",
       "      <td>Original sculptures and statuary, in any mater...</td>\n",
       "      <td>97</td>\n",
       "      <td>1.0</td>\n",
       "    </tr>\n",
       "    <tr>\n",
       "      <th>5890326</th>\n",
       "      <td>Antiques of an age exceeding one hundred years...</td>\n",
       "      <td>97</td>\n",
       "      <td>Postage or revenue stamps, stamp-postmarks, fi...</td>\n",
       "      <td>97</td>\n",
       "      <td>1.0</td>\n",
       "    </tr>\n",
       "    <tr>\n",
       "      <th>5890327</th>\n",
       "      <td>Antiques of an age exceeding one hundred years...</td>\n",
       "      <td>97</td>\n",
       "      <td>Collections and collectors' pieces of zoologic...</td>\n",
       "      <td>97</td>\n",
       "      <td>1.0</td>\n",
       "    </tr>\n",
       "    <tr>\n",
       "      <th>5890328</th>\n",
       "      <td>Antiques of an age exceeding one hundred years...</td>\n",
       "      <td>97</td>\n",
       "      <td>Antiques of an age exceeding one hundred years...</td>\n",
       "      <td>97</td>\n",
       "      <td>1.0</td>\n",
       "    </tr>\n",
       "  </tbody>\n",
       "</table>\n",
       "<p>5890329 rows × 5 columns</p>\n",
       "</div>"
      ],
      "text/plain": [
       "                                            hscode4_text_x HSCode2_x  \\\n",
       "0                                     ม้า ลา และล่อมีชีวิต        01   \n",
       "1                                     ม้า ลา และล่อมีชีวิต        01   \n",
       "2                                     ม้า ลา และล่อมีชีวิต        01   \n",
       "3                                     ม้า ลา และล่อมีชีวิต        01   \n",
       "4                                     ม้า ลา และล่อมีชีวิต        01   \n",
       "...                                                    ...       ...   \n",
       "5890324  Antiques of an age exceeding one hundred years...        97   \n",
       "5890325  Antiques of an age exceeding one hundred years...        97   \n",
       "5890326  Antiques of an age exceeding one hundred years...        97   \n",
       "5890327  Antiques of an age exceeding one hundred years...        97   \n",
       "5890328  Antiques of an age exceeding one hundred years...        97   \n",
       "\n",
       "                                            hscode4_text_y HSCode2_y  score  \n",
       "0                                     ม้า ลา และล่อมีชีวิต        01    1.0  \n",
       "1                               สัตว์จำพวกโคกระบือ มีชีวิต        01    1.0  \n",
       "2                                              สุกรมีชีวิต        01    1.0  \n",
       "3                                         แกะและแพะมีชีวิต        01    1.0  \n",
       "4        สัตว์ปีกเลี้ยงมีชีวิต ได้แก่ ไก่ชนิดแกลลัสโดเม...        01    1.0  \n",
       "...                                                    ...       ...    ...  \n",
       "5890324  Original engravings, prints and lithographs.  ...        97    1.0  \n",
       "5890325  Original sculptures and statuary, in any mater...        97    1.0  \n",
       "5890326  Postage or revenue stamps, stamp-postmarks, fi...        97    1.0  \n",
       "5890327  Collections and collectors' pieces of zoologic...        97    1.0  \n",
       "5890328  Antiques of an age exceeding one hundred years...        97    1.0  \n",
       "\n",
       "[5890329 rows x 5 columns]"
      ]
     },
     "execution_count": 4,
     "metadata": {},
     "output_type": "execute_result"
    }
   ],
   "source": [
    "df_cross = df_hscode4.merge(df_hscode4, how='cross')\n",
    "df_cross.loc[ df_cross['HSCode2_x'] == df_cross['HSCode2_y'], 'score'] = 1\n",
    "df_cross.loc[ df_cross['HSCode2_x'] != df_cross['HSCode2_y'], 'score'] = 0\n",
    "df_cross"
   ]
  },
  {
   "cell_type": "code",
   "execution_count": 5,
   "metadata": {},
   "outputs": [],
   "source": [
    "T = df_hscode4['hscode4_text'].values\n",
    "Y = df_hscode4['HSCode2'].values\n",
    "labels = df_cross['score'].values"
   ]
  },
  {
   "cell_type": "code",
   "execution_count": 6,
   "metadata": {},
   "outputs": [
    {
     "data": {
      "text/plain": [
       "(5890329,)"
      ]
     },
     "execution_count": 6,
     "metadata": {},
     "output_type": "execute_result"
    }
   ],
   "source": [
    "labels.shape"
   ]
  },
  {
   "cell_type": "code",
   "execution_count": 66,
   "metadata": {},
   "outputs": [],
   "source": [
    "# model = SentenceTransformer('distiluse-base-multilingual-cased-v2')"
   ]
  },
  {
   "cell_type": "code",
   "execution_count": 67,
   "metadata": {},
   "outputs": [],
   "source": [
    "# X = model.encode(T, convert_to_tensor=True)"
   ]
  },
  {
   "cell_type": "code",
   "execution_count": 68,
   "metadata": {},
   "outputs": [],
   "source": [
    "# X.shape"
   ]
  },
  {
   "cell_type": "code",
   "execution_count": 65,
   "metadata": {},
   "outputs": [],
   "source": [
    "# cos_sim = util.cos_sim(X, X)\n",
    "# dot_products = util.dot_score(X,X)\n",
    "\n",
    "# cosine_scores = torch.reshape(cos_sim, (labels.shape[0], ))\n",
    "# dot_products = torch.reshape(dot_products, (labels.shape[0], ))"
   ]
  },
  {
   "cell_type": "code",
   "execution_count": 7,
   "metadata": {},
   "outputs": [],
   "source": [
    "parameters = {\n",
    "    'distiluse-base-multilingual-cased-v2': {\n",
    "    },\n",
    "    'paraphrase-multilingual-MiniLM-L12-v2': {\n",
    "    },\n",
    "    'paraphrase-multilingual-mpnet-base-v2': {\n",
    "    },\n",
    "    \n",
    "    \n",
    "}\n",
    "\n",
    "model_result = {\n",
    "    'distiluse-base-multilingual-cased-v2': {},\n",
    "    'paraphrase-multilingual-MiniLM-L12-v2': {},\n",
    "    'paraphrase-multilingual-mpnet-base-v2': {},\n",
    "}"
   ]
  },
  {
   "cell_type": "code",
   "execution_count": 13,
   "metadata": {},
   "outputs": [],
   "source": [
    "# @profile\n",
    "def run_model(model_name):\n",
    "    start_time = time.time()\n",
    "    model = SentenceTransformer(model_name)\n",
    "    load_model_time = time.time() - start_time\n",
    "    print('   load_model_time:', load_model_time)\n",
    "    \n",
    "    start_time = time.time()\n",
    "    X = model.encode(T, convert_to_tensor=True)\n",
    "    encode_time = time.time() - start_time\n",
    "    print('   encode_time:', load_model_time)\n",
    "    \n",
    "    start_time = time.time()\n",
    "    result = find_spearman_pearson(X, labels)\n",
    "    spearman_pearson_time = time.time() - start_time\n",
    "    \n",
    "    result['load_model_time'] = load_model_time\n",
    "    result['encode_time'] = encode_time\n",
    "    result['spearman_pearson_time'] = spearman_pearson_time\n",
    "    \n",
    "    # with open(f'profiling/profiling_{model_name}.txt', 'w') as stream:\n",
    "    #     profile.print_stats(stream=stream)\n",
    "    \n",
    "    return result \n",
    "    "
   ]
  },
  {
   "cell_type": "code",
   "execution_count": 14,
   "metadata": {},
   "outputs": [
    {
     "name": "stdout",
     "output_type": "stream",
     "text": [
      "--- distiluse-base-multilingual-cased-v2 ---\n",
      "   load_model_time: 9.80741024017334\n",
      "   encode_time: 9.80741024017334\n",
      "{'spearman_cosine': 0.12185646569416776, 'pearson_cosine': 0.18877965377804343, 'spearman_dot': 0.1135390022756929, 'pearson_dot': 0.18198868809745544, 'load_model_time': 9.80741024017334, 'encode_time': 147.58377933502197, 'spearman_pearson_time': 7.422705173492432}\n",
      "--- paraphrase-multilingual-MiniLM-L12-v2 ---\n",
      "   load_model_time: 1.8617308139801025\n",
      "   encode_time: 1.8617308139801025\n",
      "{'spearman_cosine': 0.16805728795253272, 'pearson_cosine': 0.23396830402449054, 'spearman_dot': 0.1567375596275878, 'pearson_dot': 0.22078572014800174, 'load_model_time': 1.8617308139801025, 'encode_time': 66.21149754524231, 'spearman_pearson_time': 3.884265184402466}\n",
      "--- paraphrase-multilingual-mpnet-base-v2 ---\n",
      "   load_model_time: 6.890433073043823\n",
      "   encode_time: 6.890433073043823\n",
      "{'spearman_cosine': 0.17721252569385856, 'pearson_cosine': 0.2390359997085682, 'spearman_dot': 0.16919176715652487, 'pearson_dot': 0.23484528793003517, 'load_model_time': 6.890433073043823, 'encode_time': 207.694682598114, 'spearman_pearson_time': 4.681907653808594}\n"
     ]
    }
   ],
   "source": [
    "for key, value in parameters.items():\n",
    "    print(f'--- {key} ---')\n",
    "    result = run_model(key)   \n",
    "    model_result[key] = result \n",
    "    print(result)\n",
    "        \n"
   ]
  },
  {
   "cell_type": "code",
   "execution_count": 15,
   "metadata": {},
   "outputs": [],
   "source": [
    "model_result_temp = model_result.copy()"
   ]
  },
  {
   "cell_type": "code",
   "execution_count": 16,
   "metadata": {},
   "outputs": [
    {
     "data": {
      "text/plain": [
       "{'distiluse-base-multilingual-cased-v2': {'spearman_cosine': 0.12185646569416776,\n",
       "  'pearson_cosine': 0.18877965377804343,\n",
       "  'spearman_dot': 0.1135390022756929,\n",
       "  'pearson_dot': 0.18198868809745544,\n",
       "  'load_model_time': 9.80741024017334,\n",
       "  'encode_time': 147.58377933502197,\n",
       "  'spearman_pearson_time': 7.422705173492432},\n",
       " 'paraphrase-multilingual-MiniLM-L12-v2': {'spearman_cosine': 0.16805728795253272,\n",
       "  'pearson_cosine': 0.23396830402449054,\n",
       "  'spearman_dot': 0.1567375596275878,\n",
       "  'pearson_dot': 0.22078572014800174,\n",
       "  'load_model_time': 1.8617308139801025,\n",
       "  'encode_time': 66.21149754524231,\n",
       "  'spearman_pearson_time': 3.884265184402466},\n",
       " 'paraphrase-multilingual-mpnet-base-v2': {'spearman_cosine': 0.17721252569385856,\n",
       "  'pearson_cosine': 0.2390359997085682,\n",
       "  'spearman_dot': 0.16919176715652487,\n",
       "  'pearson_dot': 0.23484528793003517,\n",
       "  'load_model_time': 6.890433073043823,\n",
       "  'encode_time': 207.694682598114,\n",
       "  'spearman_pearson_time': 4.681907653808594}}"
      ]
     },
     "execution_count": 16,
     "metadata": {},
     "output_type": "execute_result"
    }
   ],
   "source": [
    "model_result_temp"
   ]
  },
  {
   "cell_type": "code",
   "execution_count": 17,
   "metadata": {},
   "outputs": [],
   "source": [
    "result_list = []\n",
    "for key, value in model_result_temp.items():\n",
    "    model_result_temp[key]['model_name'] = key\n",
    "    result_list.append(model_result_temp[key])\n",
    "    \n",
    "df_result_all = pd.DataFrame(result_list)\n",
    "df_result_all.to_csv('spearman_pearson_output.csv',index=False, sep='\\t')"
   ]
  },
  {
   "cell_type": "code",
   "execution_count": 92,
   "metadata": {},
   "outputs": [
    {
     "data": {
      "text/plain": [
       "{'distiluse-base-multilingual-cased-v2': {'model_name': 'distiluse-base-multilingual-cased-v2'},\n",
       " 'paraphrase-multilingual-MiniLM-L12-v2': {'model_name': 'paraphrase-multilingual-MiniLM-L12-v2'},\n",
       " 'paraphrase-multilingual-mpnet-base-v2': {'model_name': 'paraphrase-multilingual-mpnet-base-v2'}}"
      ]
     },
     "execution_count": 92,
     "metadata": {},
     "output_type": "execute_result"
    }
   ],
   "source": [
    "model_result"
   ]
  },
  {
   "cell_type": "code",
   "execution_count": 85,
   "metadata": {},
   "outputs": [],
   "source": [
    "# del model_result['model_name']"
   ]
  },
  {
   "cell_type": "markdown",
   "metadata": {},
   "source": [
    "#### Umap"
   ]
  },
  {
   "cell_type": "code",
   "execution_count": 26,
   "metadata": {},
   "outputs": [],
   "source": [
    "umap_params = {\n",
    "    'n_components': np.arange(2, 11, 1),\n",
    "    'n_neighbors': [2,4,8,16,32,64],\n",
    "}\n",
    "\n",
    "parameters = {\n",
    "    'distiluse-base-multilingual-cased-v2': {\n",
    "    },\n",
    "    'paraphrase-multilingual-MiniLM-L12-v2': {\n",
    "    },\n",
    "    'paraphrase-multilingual-mpnet-base-v2': {\n",
    "    },   \n",
    "    \n",
    "}\n",
    "model_result_umap = {\n",
    "    'distiluse-base-multilingual-cased-v2': [],\n",
    "    'paraphrase-multilingual-MiniLM-L12-v2': [],\n",
    "    'paraphrase-multilingual-mpnet-base-v2': [],\n",
    "}"
   ]
  },
  {
   "cell_type": "code",
   "execution_count": 27,
   "metadata": {},
   "outputs": [],
   "source": [
    "def run_model_umap(X, umap_param):\n",
    "    start_time = time.time()\n",
    "    X_umap = umap.UMAP(**umap_param).fit_transform(X)\n",
    "    umap_time = time.time() - start_time\n",
    "    print('   umap_time:', umap_time)\n",
    "    \n",
    "    start_time = time.time()\n",
    "    result = find_spearman_pearson(X_umap, labels)\n",
    "    spearman_pearson_time = time.time() - start_time\n",
    "    \n",
    "    result['umap_time'] = umap_time\n",
    "    result['spearman_pearson_time'] = spearman_pearson_time\n",
    "    \n",
    "    return result "
   ]
  },
  {
   "cell_type": "code",
   "execution_count": 28,
   "metadata": {},
   "outputs": [
    {
     "name": "stdout",
     "output_type": "stream",
     "text": [
      "--- distiluse-base-multilingual-cased-v2 ---\n",
      "   load_model_time: 0.8553686141967773\n",
      "   encode_time: 175.56898069381714\n",
      "   umap_parameter: {'n_components': 2, 'n_neighbors': 2}\n"
     ]
    },
    {
     "name": "stderr",
     "output_type": "stream",
     "text": [
      "/home/patcharapon/miniconda3/envs/mdm/lib/python3.8/site-packages/umap/spectral.py:260: UserWarning: WARNING: spectral initialisation failed! The eigenvector solver\n",
      "failed. This is likely due to too small an eigengap. Consider\n",
      "adding some noise or jitter to your data.\n",
      "\n",
      "Falling back to random initialisation!\n",
      "  warn(\n"
     ]
    },
    {
     "name": "stdout",
     "output_type": "stream",
     "text": [
      "   umap_time: 8.837761878967285\n",
      "1\n",
      "{'spearman_cosine': 0.035263988552731614, 'pearson_cosine': 0.02963233237752125, 'spearman_dot': 0.028810052038481485, 'pearson_dot': 0.03176504802515109, 'umap_time': 8.837761878967285, 'spearman_pearson_time': 3.3302886486053467, 'load_model_time': 0.8553686141967773, 'encode_time': 175.56898069381714, 'umap_param': {'n_components': 2, 'n_neighbors': 2}, 'model_name': 'distiluse-base-multilingual-cased-v2'}\n",
      "   umap_parameter: {'n_components': 2, 'n_neighbors': 4}\n",
      "   umap_time: 10.313378095626831\n",
      "2\n",
      "{'spearman_cosine': 0.10343262525275582, 'pearson_cosine': 0.060565530957452623, 'spearman_dot': 0.07297796644066232, 'pearson_dot': 0.07675776527408584, 'umap_time': 10.313378095626831, 'spearman_pearson_time': 4.079493761062622, 'load_model_time': 0.8553686141967773, 'encode_time': 175.56898069381714, 'umap_param': {'n_components': 2, 'n_neighbors': 4}, 'model_name': 'distiluse-base-multilingual-cased-v2'}\n",
      "   umap_parameter: {'n_components': 2, 'n_neighbors': 8}\n",
      "   umap_time: 8.77434515953064\n",
      "3\n",
      "{'spearman_cosine': 0.10268349527541087, 'pearson_cosine': 0.0383833934128842, 'spearman_dot': 0.015545491264373762, 'pearson_dot': 0.01478760636168756, 'umap_time': 8.77434515953064, 'spearman_pearson_time': 3.3222358226776123, 'load_model_time': 0.8553686141967773, 'encode_time': 175.56898069381714, 'umap_param': {'n_components': 2, 'n_neighbors': 8}, 'model_name': 'distiluse-base-multilingual-cased-v2'}\n",
      "   umap_parameter: {'n_components': 2, 'n_neighbors': 16}\n"
     ]
    }
   ],
   "source": [
    "umap_keys = list(umap_params.keys())\n",
    "umap_values = umap_params.values()\n",
    "umap_all_combinations = list(itertools.product(*umap_values))\n",
    "\n",
    "\n",
    "for key, value in parameters.items():\n",
    "    print(f'--- {key} ---')\n",
    "    start_time = time.time()\n",
    "    model = SentenceTransformer(key)\n",
    "    load_model_time = time.time() - start_time\n",
    "    print('   load_model_time:', load_model_time)\n",
    "    \n",
    "    start_time = time.time()\n",
    "    X = model.encode(T, convert_to_tensor=True)\n",
    "    encode_time = time.time() - start_time\n",
    "    print('   encode_time:', encode_time)\n",
    "    \n",
    "    for umap_parameter_value in umap_all_combinations:\n",
    "        umap_parameter_result = {}\n",
    "        for i_parameter in range(len(umap_parameter_value)):\n",
    "            umap_parameter_result[umap_keys[i_parameter]] = umap_parameter_value[i_parameter]\n",
    "        print('   umap_parameter:', umap_parameter_result)\n",
    "        result = run_model_umap(X, umap_param=umap_parameter_result) \n",
    "        result['load_model_time'] = load_model_time\n",
    "        result['encode_time'] = encode_time  \n",
    "        result['umap_param'] = umap_parameter_result\n",
    "        result['model_name'] = key\n",
    "        model_result_umap[key].append(result) \n",
    "        print(len(model_result_umap[key]))\n",
    "        print(result) "
   ]
  },
  {
   "cell_type": "code",
   "execution_count": null,
   "metadata": {},
   "outputs": [
    {
     "data": {
      "text/plain": [
       "{'distiluse-base-multilingual-cased-v2': {'spearman_cosine': 0.14000025407279698,\n",
       "  'pearson_cosine': 0.12298439953045988,\n",
       "  'spearman_dot': 0.04318345918506397,\n",
       "  'pearson_dot': 0.052250197479265015,\n",
       "  'umap_time': 14.281391143798828,\n",
       "  'spearman_pearson_time': 6.261852264404297,\n",
       "  'load_model_time': 1.1425349712371826,\n",
       "  'encode_time': 149.15838837623596,\n",
       "  'umap_param': {'n_components': 10, 'n_neighbors': 64},\n",
       "  'model_name': 'distiluse-base-multilingual-cased-v2'},\n",
       " 'paraphrase-multilingual-MiniLM-L12-v2': {'spearman_cosine': 0.18836090726677582,\n",
       "  'pearson_cosine': 0.15108449176869404,\n",
       "  'spearman_dot': 0.019051820501864523,\n",
       "  'pearson_dot': 0.025953807966455193,\n",
       "  'umap_time': 15.400129318237305,\n",
       "  'spearman_pearson_time': 4.561873912811279,\n",
       "  'load_model_time': 2.5872137546539307,\n",
       "  'encode_time': 105.56571006774902,\n",
       "  'umap_param': {'n_components': 10, 'n_neighbors': 64},\n",
       "  'model_name': 'paraphrase-multilingual-MiniLM-L12-v2'},\n",
       " 'paraphrase-multilingual-mpnet-base-v2': {'spearman_cosine': 0.1988995227158977,\n",
       "  'pearson_cosine': 0.1598164441398378,\n",
       "  'spearman_dot': 0.08151616879964477,\n",
       "  'pearson_dot': 0.09268233089717297,\n",
       "  'umap_time': 13.57311749458313,\n",
       "  'spearman_pearson_time': 2.9580609798431396,\n",
       "  'load_model_time': 5.429576396942139,\n",
       "  'encode_time': 230.36966347694397,\n",
       "  'umap_param': {'n_components': 10, 'n_neighbors': 64},\n",
       "  'model_name': 'paraphrase-multilingual-mpnet-base-v2'}}"
      ]
     },
     "execution_count": 13,
     "metadata": {},
     "output_type": "execute_result"
    }
   ],
   "source": [
    "model_result_umap"
   ]
  },
  {
   "cell_type": "code",
   "execution_count": null,
   "metadata": {},
   "outputs": [],
   "source": [
    "model_result_umap_temp = model_result_umap.copy()"
   ]
  },
  {
   "cell_type": "code",
   "execution_count": null,
   "metadata": {},
   "outputs": [],
   "source": [
    "result_list = []\n",
    "for key, value in model_result_umap_temp.items():\n",
    "    # model_result_umap_temp[key]['model_name'] = key\n",
    "    result_list.extend(model_result_umap_temp[key])\n",
    "    \n",
    "df_result_all = pd.DataFrame(result_list)\n",
    "df_result_all.to_csv('spearman_pearson_umap_output.csv',index=False, sep='\\t')"
   ]
  },
  {
   "cell_type": "code",
   "execution_count": null,
   "metadata": {},
   "outputs": [],
   "source": [
    "--- distiluse-base-multilingual-cased-v2 ---\n",
    "   load_model_time: 10.39717721939087\n",
    "   encode_time: 149.7373948097229"
   ]
  },
  {
   "cell_type": "code",
   "execution_count": 64,
   "metadata": {},
   "outputs": [],
   "source": [
    "# eval_pearson_cosine, _ = pearsonr(labels, cosine_scores)\n",
    "# eval_spearman_cosine, _ = spearmanr(labels, cosine_scores)\n",
    "\n",
    "# eval_pearson_dot, _ = pearsonr(labels, dot_products)\n",
    "# eval_spearman_dot, _ = spearmanr(labels, dot_products)"
   ]
  },
  {
   "cell_type": "code",
   "execution_count": null,
   "metadata": {},
   "outputs": [],
   "source": [
    "# cosine_scores = 1 - (paired_cosine_distances(X, X))\n",
    "# manhattan_distances = -paired_manhattan_distances(embeddings1, embeddings2)\n",
    "# euclidean_distances = -paired_euclidean_distances(embeddings1, embeddings2)\n",
    "# dot_products = [np.dot(emb1, emb2) for emb1, emb2 in zip(embeddings1, embeddings2)]\n",
    "\n",
    "\n",
    "# eval_pearson_cosine, _ = pearsonr(labels, cosine_scores)\n",
    "# eval_spearman_cosine, _ = spearmanr(labels, cosine_scores)\n",
    "\n",
    "# eval_pearson_manhattan, _ = pearsonr(labels, manhattan_distances)\n",
    "# eval_spearman_manhattan, _ = spearmanr(labels, manhattan_distances)\n",
    "\n",
    "# eval_pearson_euclidean, _ = pearsonr(labels, euclidean_distances)\n",
    "# eval_spearman_euclidean, _ = spearmanr(labels, euclidean_distances)\n",
    "\n",
    "# eval_pearson_dot, _ = pearsonr(labels, dot_products)\n",
    "# eval_spearman_dot, _ = spearmanr(labels, dot_products)"
   ]
  }
 ],
 "metadata": {
  "kernelspec": {
   "display_name": "Python 3.8.15 ('mdm')",
   "language": "python",
   "name": "python3"
  },
  "language_info": {
   "codemirror_mode": {
    "name": "ipython",
    "version": 3
   },
   "file_extension": ".py",
   "mimetype": "text/x-python",
   "name": "python",
   "nbconvert_exporter": "python",
   "pygments_lexer": "ipython3",
   "version": "3.8.15"
  },
  "orig_nbformat": 4,
  "vscode": {
   "interpreter": {
    "hash": "c2efc473d0a0d50c19a5adbeac08e391174523270bbcd5ecc02a4aa5f4c81327"
   }
  }
 },
 "nbformat": 4,
 "nbformat_minor": 2
}
