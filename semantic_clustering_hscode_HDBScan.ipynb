{
 "cells": [
  {
   "cell_type": "code",
   "execution_count": 1,
   "metadata": {},
   "outputs": [],
   "source": [
    "%load_ext autoreload\n",
    "%autoreload 2"
   ]
  },
  {
   "cell_type": "code",
   "execution_count": 2,
   "metadata": {},
   "outputs": [],
   "source": [
    "import pandas as pd\n",
    "import numpy as np\n",
    "from sentence_transformers import SentenceTransformer, util\n",
    "from sklearn.cluster import DBSCAN, OPTICS, KMeans\n",
    "from sklearn import metrics\n",
    "import hdbscan\n",
    "import time\n",
    "import umap\n",
    "import umap.plot\n",
    "import itertools\n",
    "\n",
    "from utils import prepare_dataset, calculate_all_metric\n",
    "\n",
    "import logging\n",
    "logging.basicConfig(\n",
    "    format='%(asctime)s %(levelname)-8s %(message)s',\n",
    "    datefmt='%Y-%m-%d %H:%M:%S',\n",
    "    level=logging.WARNING,  # set 3rd party logs to warning (for hiding it)\n",
    ")\n",
    "logger = logging.getLogger(__name__)\n",
    "logger.setLevel(logging.INFO)"
   ]
  },
  {
   "cell_type": "markdown",
   "metadata": {},
   "source": [
    "#### Input"
   ]
  },
  {
   "cell_type": "code",
   "execution_count": 3,
   "metadata": {},
   "outputs": [
    {
     "data": {
      "text/html": [
       "<div>\n",
       "<style scoped>\n",
       "    .dataframe tbody tr th:only-of-type {\n",
       "        vertical-align: middle;\n",
       "    }\n",
       "\n",
       "    .dataframe tbody tr th {\n",
       "        vertical-align: top;\n",
       "    }\n",
       "\n",
       "    .dataframe thead th {\n",
       "        text-align: right;\n",
       "    }\n",
       "</style>\n",
       "<table border=\"1\" class=\"dataframe\">\n",
       "  <thead>\n",
       "    <tr style=\"text-align: right;\">\n",
       "      <th></th>\n",
       "      <th>hscode4_text</th>\n",
       "      <th>HSCode2</th>\n",
       "    </tr>\n",
       "  </thead>\n",
       "  <tbody>\n",
       "    <tr>\n",
       "      <th>0</th>\n",
       "      <td>ม้า ลา และล่อมีชีวิต</td>\n",
       "      <td>01</td>\n",
       "    </tr>\n",
       "    <tr>\n",
       "      <th>1</th>\n",
       "      <td>สัตว์จำพวกโคกระบือ มีชีวิต</td>\n",
       "      <td>01</td>\n",
       "    </tr>\n",
       "    <tr>\n",
       "      <th>2</th>\n",
       "      <td>สุกรมีชีวิต</td>\n",
       "      <td>01</td>\n",
       "    </tr>\n",
       "    <tr>\n",
       "      <th>3</th>\n",
       "      <td>แกะและแพะมีชีวิต</td>\n",
       "      <td>01</td>\n",
       "    </tr>\n",
       "    <tr>\n",
       "      <th>4</th>\n",
       "      <td>สัตว์ปีกเลี้ยงมีชีวิต ได้แก่ ไก่ชนิดแกลลัสโดเม...</td>\n",
       "      <td>01</td>\n",
       "    </tr>\n",
       "    <tr>\n",
       "      <th>...</th>\n",
       "      <td>...</td>\n",
       "      <td>...</td>\n",
       "    </tr>\n",
       "    <tr>\n",
       "      <th>2422</th>\n",
       "      <td>Original engravings, prints and lithographs.  ...</td>\n",
       "      <td>97</td>\n",
       "    </tr>\n",
       "    <tr>\n",
       "      <th>2423</th>\n",
       "      <td>Original sculptures and statuary, in any mater...</td>\n",
       "      <td>97</td>\n",
       "    </tr>\n",
       "    <tr>\n",
       "      <th>2424</th>\n",
       "      <td>Postage or revenue stamps, stamp-postmarks, fi...</td>\n",
       "      <td>97</td>\n",
       "    </tr>\n",
       "    <tr>\n",
       "      <th>2425</th>\n",
       "      <td>Collections and collectors' pieces of zoologic...</td>\n",
       "      <td>97</td>\n",
       "    </tr>\n",
       "    <tr>\n",
       "      <th>2426</th>\n",
       "      <td>Antiques of an age exceeding one hundred years...</td>\n",
       "      <td>97</td>\n",
       "    </tr>\n",
       "  </tbody>\n",
       "</table>\n",
       "<p>2427 rows × 2 columns</p>\n",
       "</div>"
      ],
      "text/plain": [
       "                                           hscode4_text HSCode2\n",
       "0                                  ม้า ลา และล่อมีชีวิต      01\n",
       "1                            สัตว์จำพวกโคกระบือ มีชีวิต      01\n",
       "2                                           สุกรมีชีวิต      01\n",
       "3                                      แกะและแพะมีชีวิต      01\n",
       "4     สัตว์ปีกเลี้ยงมีชีวิต ได้แก่ ไก่ชนิดแกลลัสโดเม...      01\n",
       "...                                                 ...     ...\n",
       "2422  Original engravings, prints and lithographs.  ...      97\n",
       "2423  Original sculptures and statuary, in any mater...      97\n",
       "2424  Postage or revenue stamps, stamp-postmarks, fi...      97\n",
       "2425  Collections and collectors' pieces of zoologic...      97\n",
       "2426  Antiques of an age exceeding one hundred years...      97\n",
       "\n",
       "[2427 rows x 2 columns]"
      ]
     },
     "execution_count": 3,
     "metadata": {},
     "output_type": "execute_result"
    }
   ],
   "source": [
    "df_hscode4 = prepare_dataset()\n",
    "df_hscode4"
   ]
  },
  {
   "cell_type": "code",
   "execution_count": 5,
   "metadata": {},
   "outputs": [
    {
     "data": {
      "text/plain": [
       "84    170\n",
       "28     93\n",
       "85     92\n",
       "29     83\n",
       "90     64\n",
       "     ... \n",
       "66      6\n",
       "24      6\n",
       "46      4\n",
       "14      4\n",
       "13      4\n",
       "Name: HSCode2, Length: 96, dtype: int64"
      ]
     },
     "execution_count": 5,
     "metadata": {},
     "output_type": "execute_result"
    }
   ],
   "source": [
    "df_hscode4['HSCode2'].value_counts()"
   ]
  },
  {
   "cell_type": "code",
   "execution_count": 6,
   "metadata": {},
   "outputs": [
    {
     "data": {
      "text/html": [
       "<div>\n",
       "<style scoped>\n",
       "    .dataframe tbody tr th:only-of-type {\n",
       "        vertical-align: middle;\n",
       "    }\n",
       "\n",
       "    .dataframe tbody tr th {\n",
       "        vertical-align: top;\n",
       "    }\n",
       "\n",
       "    .dataframe thead th {\n",
       "        text-align: right;\n",
       "    }\n",
       "</style>\n",
       "<table border=\"1\" class=\"dataframe\">\n",
       "  <thead>\n",
       "    <tr style=\"text-align: right;\">\n",
       "      <th></th>\n",
       "      <th>hscode4_text</th>\n",
       "      <th>HSCode2</th>\n",
       "    </tr>\n",
       "  </thead>\n",
       "  <tbody>\n",
       "    <tr>\n",
       "      <th>954</th>\n",
       "      <td>เครื่องปฎิกรณ์นิวเคลียร์ แท่งเชื้อเพลิง (คาร์ท...</td>\n",
       "      <td>84</td>\n",
       "    </tr>\n",
       "    <tr>\n",
       "      <th>955</th>\n",
       "      <td>บอยเลอร์กำเนิดไอน้ำหรือไออื่น ๆ (นอกจากบอยเลอร...</td>\n",
       "      <td>84</td>\n",
       "    </tr>\n",
       "    <tr>\n",
       "      <th>956</th>\n",
       "      <td>บอยเลอร์สำหรับการทำความร้อนจากส่วนกลาง  นอกจาก...</td>\n",
       "      <td>84</td>\n",
       "    </tr>\n",
       "    <tr>\n",
       "      <th>957</th>\n",
       "      <td>เครื่องจักรโรงงานที่เป็นเครื่องช่วยสำหรับใช้งา...</td>\n",
       "      <td>84</td>\n",
       "    </tr>\n",
       "    <tr>\n",
       "      <th>958</th>\n",
       "      <td>เครื่องกำเนิดโพรดิวเซอร์ก๊าซหรือวอเตอร์ก๊าซ มี...</td>\n",
       "      <td>84</td>\n",
       "    </tr>\n",
       "    <tr>\n",
       "      <th>...</th>\n",
       "      <td>...</td>\n",
       "      <td>...</td>\n",
       "    </tr>\n",
       "    <tr>\n",
       "      <th>2242</th>\n",
       "      <td>Ball or roller bearings.</td>\n",
       "      <td>84</td>\n",
       "    </tr>\n",
       "    <tr>\n",
       "      <th>2243</th>\n",
       "      <td>Transmission shafts (including cam shafts and ...</td>\n",
       "      <td>84</td>\n",
       "    </tr>\n",
       "    <tr>\n",
       "      <th>2244</th>\n",
       "      <td>Gaskets and similar joints of metal sheeting c...</td>\n",
       "      <td>84</td>\n",
       "    </tr>\n",
       "    <tr>\n",
       "      <th>2245</th>\n",
       "      <td>Machines and apparatus of a kind used solely o...</td>\n",
       "      <td>84</td>\n",
       "    </tr>\n",
       "    <tr>\n",
       "      <th>2246</th>\n",
       "      <td>Machinery parts, not containing electrical con...</td>\n",
       "      <td>84</td>\n",
       "    </tr>\n",
       "  </tbody>\n",
       "</table>\n",
       "<p>170 rows × 2 columns</p>\n",
       "</div>"
      ],
      "text/plain": [
       "                                           hscode4_text HSCode2\n",
       "954   เครื่องปฎิกรณ์นิวเคลียร์ แท่งเชื้อเพลิง (คาร์ท...      84\n",
       "955   บอยเลอร์กำเนิดไอน้ำหรือไออื่น ๆ (นอกจากบอยเลอร...      84\n",
       "956   บอยเลอร์สำหรับการทำความร้อนจากส่วนกลาง  นอกจาก...      84\n",
       "957   เครื่องจักรโรงงานที่เป็นเครื่องช่วยสำหรับใช้งา...      84\n",
       "958   เครื่องกำเนิดโพรดิวเซอร์ก๊าซหรือวอเตอร์ก๊าซ มี...      84\n",
       "...                                                 ...     ...\n",
       "2242                           Ball or roller bearings.      84\n",
       "2243  Transmission shafts (including cam shafts and ...      84\n",
       "2244  Gaskets and similar joints of metal sheeting c...      84\n",
       "2245  Machines and apparatus of a kind used solely o...      84\n",
       "2246  Machinery parts, not containing electrical con...      84\n",
       "\n",
       "[170 rows x 2 columns]"
      ]
     },
     "execution_count": 6,
     "metadata": {},
     "output_type": "execute_result"
    }
   ],
   "source": [
    "df_hscode4[df_hscode4['HSCode2'] == '84'] "
   ]
  },
  {
   "cell_type": "markdown",
   "metadata": {},
   "source": [
    "#### Get Vector Input (X)"
   ]
  },
  {
   "cell_type": "code",
   "execution_count": 4,
   "metadata": {},
   "outputs": [],
   "source": [
    "model = SentenceTransformer('distiluse-base-multilingual-cased-v2')"
   ]
  },
  {
   "cell_type": "code",
   "execution_count": 5,
   "metadata": {},
   "outputs": [],
   "source": [
    "X = model.encode(df_hscode4['hscode4_text'].values, convert_to_tensor=True)"
   ]
  },
  {
   "cell_type": "code",
   "execution_count": 6,
   "metadata": {},
   "outputs": [
    {
     "data": {
      "text/plain": [
       "torch.Size([2427, 512])"
      ]
     },
     "execution_count": 6,
     "metadata": {},
     "output_type": "execute_result"
    }
   ],
   "source": [
    "X.shape"
   ]
  },
  {
   "cell_type": "code",
   "execution_count": 7,
   "metadata": {},
   "outputs": [],
   "source": [
    "corpus_embeddings = X"
   ]
  },
  {
   "cell_type": "markdown",
   "metadata": {},
   "source": [
    "#### Calculate Metric"
   ]
  },
  {
   "cell_type": "code",
   "execution_count": 47,
   "metadata": {},
   "outputs": [],
   "source": [
    "parameters = {\n",
    "    'HDBSCAN': {\n",
    "        'umap': {\n",
    "            # 'n_neighbors': [5], \n",
    "            # 'n_components': np.arange(2, 6, 1),\n",
    "            'n_components': [3],\n",
    "        },\n",
    "        'clustering': {\n",
    "            'alpha': [1.0], \n",
    "            'min_cluster_size': [5],\n",
    "            # 'min_cluster_size': np.arange(3, 20, 2),\n",
    "            # 'n_estimators': np.linspace(1, 100, num=3, dtype='int'),\n",
    "            # 'contamination': np.linspace(0.01, 0.5, num=10),  \n",
    "        },\n",
    "        \"use_dim_reduction\": True\n",
    "    },\n",
    "    'KMean': {\n",
    "        'umap': {\n",
    "            # 'n_neighbors': [5], \n",
    "            # # 'n_components': np.arange(2, 6, 1),\n",
    "            'n_components': [3],\n",
    "        },\n",
    "        'clustering': {\n",
    "            'n_clusters': [90],\n",
    "            'random_state': [0],\n",
    "        },\n",
    "        \"use_dim_reduction\": True\n",
    "        # 'n_init': \"auto\",\n",
    "        # n_clusters=6, random_state=0, n_init=\"auto\"\n",
    "    },\n",
    "    'DBSCAN': {\n",
    "        'umap': {\n",
    "            'n_components': [3],\n",
    "        },\n",
    "        'clustering': {\n",
    "            'eps': [0.4, 0.5, 0.6, 0.7, 0.8, 0.9], \n",
    "            'min_samples': [2],\n",
    "        },\n",
    "        \"use_dim_reduction\": True\n",
    "    },\n",
    "    \n",
    "    \n",
    "}\n",
    "\n",
    "model_classes = {\n",
    "    'HDBSCAN': hdbscan.HDBSCAN,\n",
    "    'KMean': KMeans,\n",
    "    'DBSCAN': DBSCAN\n",
    "}\n",
    "\n",
    "model_result = {\n",
    "    'HDBSCAN': [],\n",
    "    'KMean': [],\n",
    "    'DBSCAN': [],\n",
    "}\n",
    "\n",
    "def get_model_result(model_name):\n",
    "    logger.info(f\"{model_name}\")               \n",
    "    model_detail = {}    \n",
    "        \n",
    "    umap_keys = list(parameters[model_name]['umap'].keys())\n",
    "    umap_values = parameters[model_name]['umap'].values()\n",
    "    umap_all_combinations = list(itertools.product(*umap_values))\n",
    "    \n",
    "    clustering_keys = list(parameters[model_name]['clustering'].keys())\n",
    "    clustering_values = parameters[model_name]['clustering'].values()\n",
    "    clustering_all_combinations = list(itertools.product(*clustering_values))\n",
    "    \n",
    "    model_result[model_name] = []\n",
    "    \n",
    "    for umap_parameter_value in umap_all_combinations:\n",
    "        umap_parameter_result = {}\n",
    "        for i_parameter in range(len(umap_parameter_value)):\n",
    "            umap_parameter_result[umap_keys[i_parameter]] = umap_parameter_value[i_parameter]\n",
    "            \n",
    "        logger.info(f'         umap parameter_result {umap_parameter_result}')   \n",
    "        \n",
    "        \n",
    "        for clustering_parameter_value in clustering_all_combinations:\n",
    "            clustering_parameter_result = {}\n",
    "            for i_parameter in range(len(clustering_parameter_value)):\n",
    "                clustering_parameter_result[clustering_keys[i_parameter]] = clustering_parameter_value[i_parameter]\n",
    "                \n",
    "            logger.info(f'          clustering parameter_result {clustering_parameter_result}')\n",
    "         \n",
    "            # model =  model_classes[model_name](**parameter_result)     \n",
    "            dict_result, df_result = find_cluster(\n",
    "                umap_parameter_result, \n",
    "                clustering_parameter_result, \n",
    "                parameters[model_name]['use_dim_reduction'],\n",
    "                model_name\n",
    "            )  \n",
    "            model_result[model_name].append(dict_result) \n",
    "    \n",
    "    return model_result[model_name], df_result\n",
    "            \n",
    "            \n",
    "    "
   ]
  },
  {
   "cell_type": "code",
   "execution_count": 22,
   "metadata": {},
   "outputs": [],
   "source": [
    "def find_cluster(umap_param, clustering_param, use_dim_reduction, model_name):    \n",
    "    if use_dim_reduction:\n",
    "        X_input = umap.UMAP(**umap_param).fit_transform(X)\n",
    "    else:\n",
    "        X_input = X\n",
    "    clusterer = model_classes[model_name](**clustering_param)\n",
    "    hdbscan_cluster = clusterer.fit_predict(X_input)\n",
    "    df_hscode4['cluster_group_id'] = hdbscan_cluster\n",
    "    \n",
    "    dict_result, df_result = calculate_all_metric(df_hscode4, X_input)\n",
    "    dict_result['umap_param'] = umap_param\n",
    "    dict_result['clustering_param'] = clustering_param\n",
    "    logger.info(f'               result {dict_result}')\n",
    "    return  dict_result, df_result"
   ]
  },
  {
   "cell_type": "code",
   "execution_count": 30,
   "metadata": {},
   "outputs": [
    {
     "name": "stderr",
     "output_type": "stream",
     "text": [
      "2023-01-23 14:41:26 INFO     HDBSCAN\n",
      "2023-01-23 14:41:26 INFO              umap parameter_result {'n_components': 3}\n",
      "2023-01-23 14:41:26 INFO               clustering parameter_result {'alpha': 1.0, 'min_cluster_size': 5}\n",
      "2023-01-23 14:41:35 INFO                    result {'acc_mean': 0.5141121437568484, 'silhouette': 0.15757981, 'cluster_size': 98, 'n_noise': 752, 'n_top_20_cluster': array([137,  82,  77,  58,  54,  45,  37,  35,  29,  29,  29,  28,  23,\n",
      "        23,  23,  22,  21,  20,  20,  20]), 'umap_param': {'n_components': 3}, 'clustering_param': {'alpha': 1.0, 'min_cluster_size': 5}}\n"
     ]
    }
   ],
   "source": [
    "result_list, df_result  = get_model_result('HDBSCAN')"
   ]
  },
  {
   "cell_type": "code",
   "execution_count": 13,
   "metadata": {},
   "outputs": [
    {
     "name": "stderr",
     "output_type": "stream",
     "text": [
      "2023-01-23 14:29:36 INFO     KMean\n",
      "2023-01-23 14:29:36 INFO              umap parameter_result {'n_components': 3}\n",
      "2023-01-23 14:29:36 INFO               clustering parameter_result {'n_clusters': 90, 'random_state': 0}\n",
      "/home/patcharapon/miniconda3/envs/mdm/lib/python3.8/site-packages/sklearn/cluster/_kmeans.py:870: FutureWarning: The default value of `n_init` will change from 10 to 'auto' in 1.4. Set the value of `n_init` explicitly to suppress the warning\n",
      "  warnings.warn(\n",
      "2023-01-23 14:29:44 INFO                    result {'acc_mean': 0.6218484942582964, 'silhouette': 0.43212065, 'cluster_size': 90, 'n_noise': 0, 'n_top_20_cluster': array([74, 73, 67, 63, 62, 59, 45, 44, 41, 40, 38, 38, 37, 37, 36, 35, 34,\n",
      "       33, 33, 33]), 'umap_param': {'n_components': 3}, 'clustering_param': {'n_clusters': 90, 'random_state': 0}}\n"
     ]
    }
   ],
   "source": [
    "result_list, df_result = get_model_result('KMean')"
   ]
  },
  {
   "cell_type": "code",
   "execution_count": 49,
   "metadata": {},
   "outputs": [],
   "source": [
    "# result_list, df_result = get_model_result('DBSCAN')"
   ]
  },
  {
   "cell_type": "code",
   "execution_count": 15,
   "metadata": {},
   "outputs": [],
   "source": [
    "mapper = umap.UMAP().fit(X)"
   ]
  },
  {
   "cell_type": "code",
   "execution_count": 18,
   "metadata": {},
   "outputs": [],
   "source": [
    "# umap.plot.points(mapper, labels=df_result['cluster_group_id'].values)"
   ]
  },
  {
   "cell_type": "code",
   "execution_count": 31,
   "metadata": {},
   "outputs": [
    {
     "name": "stdout",
     "output_type": "stream",
     "text": [
      "huggingface/tokenizers: The current process just got forked, after parallelism has already been used. Disabling parallelism to avoid deadlocks...\n",
      "To disable this warning, you can either:\n",
      "\t- Avoid using `tokenizers` before the fork if possible\n",
      "\t- Explicitly set the environment variable TOKENIZERS_PARALLELISM=(true | false)\n"
     ]
    }
   ],
   "source": [
    "p = umap.plot.interactive(\n",
    "    mapper, \n",
    "    labels=df_result['cluster_group_id'].values, \n",
    "    hover_data=df_result, \n",
    "    point_size=10\n",
    ")\n",
    "umap.plot.show(p)"
   ]
  },
  {
   "cell_type": "code",
   "execution_count": 20,
   "metadata": {},
   "outputs": [
    {
     "name": "stdout",
     "output_type": "stream",
     "text": [
      "huggingface/tokenizers: The current process just got forked, after parallelism has already been used. Disabling parallelism to avoid deadlocks...\n",
      "To disable this warning, you can either:\n",
      "\t- Avoid using `tokenizers` before the fork if possible\n",
      "\t- Explicitly set the environment variable TOKENIZERS_PARALLELISM=(true | false)\n"
     ]
    }
   ],
   "source": [
    "p = umap.plot.interactive(\n",
    "    mapper, \n",
    "    labels=df_result['HSCode2'].values, \n",
    "    hover_data=df_result, \n",
    "    point_size=10\n",
    ")\n",
    "umap.plot.show(p)"
   ]
  },
  {
   "cell_type": "code",
   "execution_count": 14,
   "metadata": {},
   "outputs": [
    {
     "data": {
      "text/html": [
       "<div>\n",
       "<style scoped>\n",
       "    .dataframe tbody tr th:only-of-type {\n",
       "        vertical-align: middle;\n",
       "    }\n",
       "\n",
       "    .dataframe tbody tr th {\n",
       "        vertical-align: top;\n",
       "    }\n",
       "\n",
       "    .dataframe thead th {\n",
       "        text-align: right;\n",
       "    }\n",
       "</style>\n",
       "<table border=\"1\" class=\"dataframe\">\n",
       "  <thead>\n",
       "    <tr style=\"text-align: right;\">\n",
       "      <th></th>\n",
       "      <th>hscode4_text</th>\n",
       "      <th>HSCode2</th>\n",
       "      <th>cluster_group_id</th>\n",
       "    </tr>\n",
       "  </thead>\n",
       "  <tbody>\n",
       "    <tr>\n",
       "      <th>0</th>\n",
       "      <td>ม้า ลา และล่อมีชีวิต</td>\n",
       "      <td>01</td>\n",
       "      <td>33</td>\n",
       "    </tr>\n",
       "    <tr>\n",
       "      <th>1</th>\n",
       "      <td>สัตว์จำพวกโคกระบือ มีชีวิต</td>\n",
       "      <td>01</td>\n",
       "      <td>5</td>\n",
       "    </tr>\n",
       "    <tr>\n",
       "      <th>2</th>\n",
       "      <td>สุกรมีชีวิต</td>\n",
       "      <td>01</td>\n",
       "      <td>5</td>\n",
       "    </tr>\n",
       "    <tr>\n",
       "      <th>3</th>\n",
       "      <td>แกะและแพะมีชีวิต</td>\n",
       "      <td>01</td>\n",
       "      <td>33</td>\n",
       "    </tr>\n",
       "    <tr>\n",
       "      <th>4</th>\n",
       "      <td>สัตว์ปีกเลี้ยงมีชีวิต ได้แก่ ไก่ชนิดแกลลัสโดเม...</td>\n",
       "      <td>01</td>\n",
       "      <td>12</td>\n",
       "    </tr>\n",
       "    <tr>\n",
       "      <th>...</th>\n",
       "      <td>...</td>\n",
       "      <td>...</td>\n",
       "      <td>...</td>\n",
       "    </tr>\n",
       "    <tr>\n",
       "      <th>2422</th>\n",
       "      <td>Original engravings, prints and lithographs.  ...</td>\n",
       "      <td>97</td>\n",
       "      <td>33</td>\n",
       "    </tr>\n",
       "    <tr>\n",
       "      <th>2423</th>\n",
       "      <td>Original sculptures and statuary, in any mater...</td>\n",
       "      <td>97</td>\n",
       "      <td>2</td>\n",
       "    </tr>\n",
       "    <tr>\n",
       "      <th>2424</th>\n",
       "      <td>Postage or revenue stamps, stamp-postmarks, fi...</td>\n",
       "      <td>97</td>\n",
       "      <td>46</td>\n",
       "    </tr>\n",
       "    <tr>\n",
       "      <th>2425</th>\n",
       "      <td>Collections and collectors' pieces of zoologic...</td>\n",
       "      <td>97</td>\n",
       "      <td>71</td>\n",
       "    </tr>\n",
       "    <tr>\n",
       "      <th>2426</th>\n",
       "      <td>Antiques of an age exceeding one hundred years...</td>\n",
       "      <td>97</td>\n",
       "      <td>62</td>\n",
       "    </tr>\n",
       "  </tbody>\n",
       "</table>\n",
       "<p>2427 rows × 3 columns</p>\n",
       "</div>"
      ],
      "text/plain": [
       "                                           hscode4_text HSCode2  \\\n",
       "0                                  ม้า ลา และล่อมีชีวิต      01   \n",
       "1                            สัตว์จำพวกโคกระบือ มีชีวิต      01   \n",
       "2                                           สุกรมีชีวิต      01   \n",
       "3                                      แกะและแพะมีชีวิต      01   \n",
       "4     สัตว์ปีกเลี้ยงมีชีวิต ได้แก่ ไก่ชนิดแกลลัสโดเม...      01   \n",
       "...                                                 ...     ...   \n",
       "2422  Original engravings, prints and lithographs.  ...      97   \n",
       "2423  Original sculptures and statuary, in any mater...      97   \n",
       "2424  Postage or revenue stamps, stamp-postmarks, fi...      97   \n",
       "2425  Collections and collectors' pieces of zoologic...      97   \n",
       "2426  Antiques of an age exceeding one hundred years...      97   \n",
       "\n",
       "      cluster_group_id  \n",
       "0                   33  \n",
       "1                    5  \n",
       "2                    5  \n",
       "3                   33  \n",
       "4                   12  \n",
       "...                ...  \n",
       "2422                33  \n",
       "2423                 2  \n",
       "2424                46  \n",
       "2425                71  \n",
       "2426                62  \n",
       "\n",
       "[2427 rows x 3 columns]"
      ]
     },
     "execution_count": 14,
     "metadata": {},
     "output_type": "execute_result"
    }
   ],
   "source": [
    "df_result"
   ]
  },
  {
   "cell_type": "code",
   "execution_count": 27,
   "metadata": {},
   "outputs": [
    {
     "data": {
      "text/plain": [
       "[{'acc_mean': 0.5938045472603336,\n",
       "  'silhouette': 0.4241444,\n",
       "  'cluster_size': 90,\n",
       "  'n_noise': 0,\n",
       "  'n_top_20_cluster': array([75, 62, 61, 52, 52, 46, 41, 39, 39, 38, 37, 36, 35, 35, 35, 35, 35,\n",
       "         35, 35, 34]),\n",
       "  'umap_param': {'n_components': 3},\n",
       "  'clustering_param': {'n_clusters': 90, 'random_state': 0}}]"
      ]
     },
     "execution_count": 27,
     "metadata": {},
     "output_type": "execute_result"
    }
   ],
   "source": [
    "result_list"
   ]
  },
  {
   "cell_type": "code",
   "execution_count": 44,
   "metadata": {},
   "outputs": [],
   "source": [
    "# result_list = []\n",
    "# for threshold in np.arange(0.15, 1.0, 0.05):    \n",
    "#     dict_result, df_result = find_community(threshold=threshold)\n",
    "#     result_list.append(dict_result)\n",
    "#     print(dict_result)"
   ]
  },
  {
   "cell_type": "code",
   "execution_count": 45,
   "metadata": {},
   "outputs": [],
   "source": [
    "df_result_all = pd.DataFrame(result_list)\n",
    "df_result_all.to_csv('HDBSCAN_output.csv',index=False, sep='\\t')"
   ]
  },
  {
   "cell_type": "code",
   "execution_count": null,
   "metadata": {},
   "outputs": [],
   "source": [
    "df_result_all = pd.DataFrame(result_list)\n",
    "df_result_all.to_csv('KMean_output.csv',index=False, sep='\\t')"
   ]
  },
  {
   "cell_type": "code",
   "execution_count": null,
   "metadata": {},
   "outputs": [],
   "source": [
    "p = umap.plot.interactive(\n",
    "    mapper, \n",
    "    labels=df_result['cluster_group_id'].values, \n",
    "    hover_data=df_result, \n",
    "    point_size=10\n",
    ")\n",
    "umap.plot.show(p)"
   ]
  },
  {
   "cell_type": "code",
   "execution_count": null,
   "metadata": {},
   "outputs": [],
   "source": []
  },
  {
   "cell_type": "code",
   "execution_count": null,
   "metadata": {},
   "outputs": [],
   "source": []
  },
  {
   "cell_type": "code",
   "execution_count": 32,
   "metadata": {},
   "outputs": [],
   "source": [
    "def find_community(threshold):\n",
    "    clusters = util.community_detection(corpus_embeddings, min_community_size=5, threshold=threshold)\n",
    "    df_hscode4['cluster_group_id'] = -1\n",
    "    \n",
    "    for i, cluster in enumerate(clusters):\n",
    "        df_hscode4.iloc[cluster, df_hscode4.columns.get_loc('cluster_group_id')] = i\n",
    "    \n",
    "    # import pdb; pdb.set_trace()\n",
    "    X_input = umap.UMAP(n_components=2).fit_transform(X)\n",
    "    # df_hscode4.iloc[:1000, df_hscode4.columns.get_loc('cluster_group_id')] = 1\n",
    "    # print(df_hscode4)\n",
    "    # df_hscode4.iloc[1000:, df_hscode4.columns.get_loc('cluster_group_id')] = 2\n",
    "    dict_result, df_result = calculate_all_metric(df_hscode4.copy(), X_input)\n",
    "    dict_result['threshold'] = threshold\n",
    "    \n",
    "    return  dict_result, df_result"
   ]
  },
  {
   "cell_type": "code",
   "execution_count": 33,
   "metadata": {},
   "outputs": [],
   "source": [
    "dict_result, df_result = find_community(threshold=0.6)"
   ]
  },
  {
   "cell_type": "code",
   "execution_count": 36,
   "metadata": {},
   "outputs": [
    {
     "data": {
      "text/html": [
       "<div>\n",
       "<style scoped>\n",
       "    .dataframe tbody tr th:only-of-type {\n",
       "        vertical-align: middle;\n",
       "    }\n",
       "\n",
       "    .dataframe tbody tr th {\n",
       "        vertical-align: top;\n",
       "    }\n",
       "\n",
       "    .dataframe thead th {\n",
       "        text-align: right;\n",
       "    }\n",
       "</style>\n",
       "<table border=\"1\" class=\"dataframe\">\n",
       "  <thead>\n",
       "    <tr style=\"text-align: right;\">\n",
       "      <th></th>\n",
       "      <th>hscode4_text</th>\n",
       "      <th>HSCode2</th>\n",
       "      <th>cluster_group_id</th>\n",
       "    </tr>\n",
       "  </thead>\n",
       "  <tbody>\n",
       "    <tr>\n",
       "      <th>0</th>\n",
       "      <td>ม้า ลา และล่อมีชีวิต</td>\n",
       "      <td>01</td>\n",
       "      <td>-1</td>\n",
       "    </tr>\n",
       "    <tr>\n",
       "      <th>1</th>\n",
       "      <td>สัตว์จำพวกโคกระบือ มีชีวิต</td>\n",
       "      <td>01</td>\n",
       "      <td>71</td>\n",
       "    </tr>\n",
       "    <tr>\n",
       "      <th>2</th>\n",
       "      <td>สุกรมีชีวิต</td>\n",
       "      <td>01</td>\n",
       "      <td>71</td>\n",
       "    </tr>\n",
       "    <tr>\n",
       "      <th>3</th>\n",
       "      <td>แกะและแพะมีชีวิต</td>\n",
       "      <td>01</td>\n",
       "      <td>71</td>\n",
       "    </tr>\n",
       "    <tr>\n",
       "      <th>4</th>\n",
       "      <td>สัตว์ปีกเลี้ยงมีชีวิต ได้แก่ ไก่ชนิดแกลลัสโดเม...</td>\n",
       "      <td>01</td>\n",
       "      <td>-1</td>\n",
       "    </tr>\n",
       "    <tr>\n",
       "      <th>...</th>\n",
       "      <td>...</td>\n",
       "      <td>...</td>\n",
       "      <td>...</td>\n",
       "    </tr>\n",
       "    <tr>\n",
       "      <th>2422</th>\n",
       "      <td>Original engravings, prints and lithographs.  ...</td>\n",
       "      <td>97</td>\n",
       "      <td>-1</td>\n",
       "    </tr>\n",
       "    <tr>\n",
       "      <th>2423</th>\n",
       "      <td>Original sculptures and statuary, in any mater...</td>\n",
       "      <td>97</td>\n",
       "      <td>-1</td>\n",
       "    </tr>\n",
       "    <tr>\n",
       "      <th>2424</th>\n",
       "      <td>Postage or revenue stamps, stamp-postmarks, fi...</td>\n",
       "      <td>97</td>\n",
       "      <td>-1</td>\n",
       "    </tr>\n",
       "    <tr>\n",
       "      <th>2425</th>\n",
       "      <td>Collections and collectors' pieces of zoologic...</td>\n",
       "      <td>97</td>\n",
       "      <td>-1</td>\n",
       "    </tr>\n",
       "    <tr>\n",
       "      <th>2426</th>\n",
       "      <td>Antiques of an age exceeding one hundred years...</td>\n",
       "      <td>97</td>\n",
       "      <td>-1</td>\n",
       "    </tr>\n",
       "  </tbody>\n",
       "</table>\n",
       "<p>2427 rows × 3 columns</p>\n",
       "</div>"
      ],
      "text/plain": [
       "                                           hscode4_text HSCode2  \\\n",
       "0                                  ม้า ลา และล่อมีชีวิต      01   \n",
       "1                            สัตว์จำพวกโคกระบือ มีชีวิต      01   \n",
       "2                                           สุกรมีชีวิต      01   \n",
       "3                                      แกะและแพะมีชีวิต      01   \n",
       "4     สัตว์ปีกเลี้ยงมีชีวิต ได้แก่ ไก่ชนิดแกลลัสโดเม...      01   \n",
       "...                                                 ...     ...   \n",
       "2422  Original engravings, prints and lithographs.  ...      97   \n",
       "2423  Original sculptures and statuary, in any mater...      97   \n",
       "2424  Postage or revenue stamps, stamp-postmarks, fi...      97   \n",
       "2425  Collections and collectors' pieces of zoologic...      97   \n",
       "2426  Antiques of an age exceeding one hundred years...      97   \n",
       "\n",
       "      cluster_group_id  \n",
       "0                   -1  \n",
       "1                   71  \n",
       "2                   71  \n",
       "3                   71  \n",
       "4                   -1  \n",
       "...                ...  \n",
       "2422                -1  \n",
       "2423                -1  \n",
       "2424                -1  \n",
       "2425                -1  \n",
       "2426                -1  \n",
       "\n",
       "[2427 rows x 3 columns]"
      ]
     },
     "execution_count": 36,
     "metadata": {},
     "output_type": "execute_result"
    }
   ],
   "source": [
    "df_result"
   ]
  },
  {
   "cell_type": "code",
   "execution_count": 34,
   "metadata": {},
   "outputs": [
    {
     "name": "stdout",
     "output_type": "stream",
     "text": [
      "huggingface/tokenizers: The current process just got forked, after parallelism has already been used. Disabling parallelism to avoid deadlocks...\n",
      "To disable this warning, you can either:\n",
      "\t- Avoid using `tokenizers` before the fork if possible\n",
      "\t- Explicitly set the environment variable TOKENIZERS_PARALLELISM=(true | false)\n"
     ]
    }
   ],
   "source": [
    "p = umap.plot.interactive(\n",
    "    mapper, \n",
    "    labels=df_result['cluster_group_id'].values, \n",
    "    hover_data=df_result, \n",
    "    point_size=10\n",
    ")\n",
    "umap.plot.show(p)"
   ]
  }
 ],
 "metadata": {
  "kernelspec": {
   "display_name": "Python 3.8.10 64-bit",
   "language": "python",
   "name": "python3"
  },
  "language_info": {
   "codemirror_mode": {
    "name": "ipython",
    "version": 3
   },
   "file_extension": ".py",
   "mimetype": "text/x-python",
   "name": "python",
   "nbconvert_exporter": "python",
   "pygments_lexer": "ipython3",
   "version": "3.8.10"
  },
  "vscode": {
   "interpreter": {
    "hash": "31f2aee4e71d21fbe5cf8b01ff0e069b9275f58929596ceb00d14d90e3e16cd6"
   }
  }
 },
 "nbformat": 4,
 "nbformat_minor": 2
}
