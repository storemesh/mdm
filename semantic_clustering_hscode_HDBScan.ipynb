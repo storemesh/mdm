{
 "cells": [
  {
   "cell_type": "code",
   "execution_count": 3,
   "metadata": {},
   "outputs": [],
   "source": [
    "%load_ext autoreload\n",
    "%autoreload 2"
   ]
  },
  {
   "cell_type": "code",
   "execution_count": 4,
   "metadata": {},
   "outputs": [],
   "source": [
    "import pandas as pd\n",
    "import numpy as np\n",
    "from sentence_transformers import SentenceTransformer, util\n",
    "from sklearn.cluster import DBSCAN, OPTICS, KMeans\n",
    "from sklearn import metrics\n",
    "import hdbscan\n",
    "import time\n",
    "import umap\n",
    "import umap.plot\n",
    "import itertools\n",
    "\n",
    "from utils import prepare_dataset, calculate_all_metric\n",
    "\n",
    "import logging\n",
    "logging.basicConfig(\n",
    "    format='%(asctime)s %(levelname)-8s %(message)s',\n",
    "    datefmt='%Y-%m-%d %H:%M:%S',\n",
    "    level=logging.WARNING,  # set 3rd party logs to warning (for hiding it)\n",
    ")\n",
    "logger = logging.getLogger(__name__)\n",
    "logger.setLevel(logging.INFO)"
   ]
  },
  {
   "cell_type": "markdown",
   "metadata": {},
   "source": [
    "#### Input"
   ]
  },
  {
   "cell_type": "code",
   "execution_count": 5,
   "metadata": {},
   "outputs": [
    {
     "data": {
      "text/html": [
       "<div>\n",
       "<style scoped>\n",
       "    .dataframe tbody tr th:only-of-type {\n",
       "        vertical-align: middle;\n",
       "    }\n",
       "\n",
       "    .dataframe tbody tr th {\n",
       "        vertical-align: top;\n",
       "    }\n",
       "\n",
       "    .dataframe thead th {\n",
       "        text-align: right;\n",
       "    }\n",
       "</style>\n",
       "<table border=\"1\" class=\"dataframe\">\n",
       "  <thead>\n",
       "    <tr style=\"text-align: right;\">\n",
       "      <th></th>\n",
       "      <th>hscode4_text</th>\n",
       "      <th>HSCode2</th>\n",
       "    </tr>\n",
       "  </thead>\n",
       "  <tbody>\n",
       "    <tr>\n",
       "      <th>22598</th>\n",
       "      <td>ม้า ลา และล่อมีชีวิต</td>\n",
       "      <td>01</td>\n",
       "    </tr>\n",
       "    <tr>\n",
       "      <th>22608</th>\n",
       "      <td>สัตว์จำพวกโคกระบือ มีชีวิต</td>\n",
       "      <td>01</td>\n",
       "    </tr>\n",
       "    <tr>\n",
       "      <th>22626</th>\n",
       "      <td>สุกรมีชีวิต</td>\n",
       "      <td>01</td>\n",
       "    </tr>\n",
       "    <tr>\n",
       "      <th>22632</th>\n",
       "      <td>แกะและแพะมีชีวิต</td>\n",
       "      <td>01</td>\n",
       "    </tr>\n",
       "    <tr>\n",
       "      <th>22640</th>\n",
       "      <td>สัตว์ปีกเลี้ยงมีชีวิต ได้แก่ ไก่ชนิดแกลลัสโดเม...</td>\n",
       "      <td>01</td>\n",
       "    </tr>\n",
       "    <tr>\n",
       "      <th>...</th>\n",
       "      <td>...</td>\n",
       "      <td>...</td>\n",
       "    </tr>\n",
       "    <tr>\n",
       "      <th>81044</th>\n",
       "      <td>Original engravings, prints and lithographs.  ...</td>\n",
       "      <td>97</td>\n",
       "    </tr>\n",
       "    <tr>\n",
       "      <th>81048</th>\n",
       "      <td>Original sculptures and statuary, in any mater...</td>\n",
       "      <td>97</td>\n",
       "    </tr>\n",
       "    <tr>\n",
       "      <th>81086</th>\n",
       "      <td>Postage or revenue stamps, stamp-postmarks, fi...</td>\n",
       "      <td>97</td>\n",
       "    </tr>\n",
       "    <tr>\n",
       "      <th>81088</th>\n",
       "      <td>Collections and collectors' pieces of zoologic...</td>\n",
       "      <td>97</td>\n",
       "    </tr>\n",
       "    <tr>\n",
       "      <th>81104</th>\n",
       "      <td>Antiques of an age exceeding one hundred years...</td>\n",
       "      <td>97</td>\n",
       "    </tr>\n",
       "  </tbody>\n",
       "</table>\n",
       "<p>2427 rows × 2 columns</p>\n",
       "</div>"
      ],
      "text/plain": [
       "                                            hscode4_text HSCode2\n",
       "22598                               ม้า ลา และล่อมีชีวิต      01\n",
       "22608                         สัตว์จำพวกโคกระบือ มีชีวิต      01\n",
       "22626                                        สุกรมีชีวิต      01\n",
       "22632                                   แกะและแพะมีชีวิต      01\n",
       "22640  สัตว์ปีกเลี้ยงมีชีวิต ได้แก่ ไก่ชนิดแกลลัสโดเม...      01\n",
       "...                                                  ...     ...\n",
       "81044  Original engravings, prints and lithographs.  ...      97\n",
       "81048  Original sculptures and statuary, in any mater...      97\n",
       "81086  Postage or revenue stamps, stamp-postmarks, fi...      97\n",
       "81088  Collections and collectors' pieces of zoologic...      97\n",
       "81104  Antiques of an age exceeding one hundred years...      97\n",
       "\n",
       "[2427 rows x 2 columns]"
      ]
     },
     "execution_count": 5,
     "metadata": {},
     "output_type": "execute_result"
    }
   ],
   "source": [
    "df_hscode4 = prepare_dataset()\n",
    "df_hscode4"
   ]
  },
  {
   "cell_type": "markdown",
   "metadata": {},
   "source": [
    "#### Get Vector Input (X)"
   ]
  },
  {
   "cell_type": "code",
   "execution_count": 6,
   "metadata": {},
   "outputs": [],
   "source": [
    "model = SentenceTransformer('distiluse-base-multilingual-cased-v2')"
   ]
  },
  {
   "cell_type": "code",
   "execution_count": 7,
   "metadata": {},
   "outputs": [],
   "source": [
    "X = model.encode(df_hscode4['hscode4_text'].values, convert_to_tensor=True)"
   ]
  },
  {
   "cell_type": "code",
   "execution_count": 8,
   "metadata": {},
   "outputs": [
    {
     "data": {
      "text/plain": [
       "torch.Size([2427, 512])"
      ]
     },
     "execution_count": 8,
     "metadata": {},
     "output_type": "execute_result"
    }
   ],
   "source": [
    "X.shape"
   ]
  },
  {
   "cell_type": "code",
   "execution_count": 9,
   "metadata": {},
   "outputs": [],
   "source": [
    "corpus_embeddings = X"
   ]
  },
  {
   "cell_type": "markdown",
   "metadata": {},
   "source": [
    "#### Calculate Metric"
   ]
  },
  {
   "cell_type": "code",
   "execution_count": 36,
   "metadata": {},
   "outputs": [],
   "source": [
    "parameters = {\n",
    "    'HDBSCAN': {\n",
    "        'umap': {\n",
    "            'n_neighbors': [5], \n",
    "            # 'n_components': np.arange(2, 6, 1),\n",
    "            'n_components': [3],\n",
    "        },\n",
    "        'clustering': {\n",
    "            'alpha': [1.0], \n",
    "            'min_cluster_size': np.arange(3, 20, 2),\n",
    "            # 'n_estimators': np.linspace(1, 100, num=3, dtype='int'),\n",
    "            # 'contamination': np.linspace(0.01, 0.5, num=10),  \n",
    "        },\n",
    "        \"use_dim_reduction\": True\n",
    "    },\n",
    "    'KMean': {\n",
    "        'umap': {\n",
    "            # 'n_neighbors': [5], \n",
    "            # # 'n_components': np.arange(2, 6, 1),\n",
    "            'n_components': [3, 4 , 5],\n",
    "        },\n",
    "        'clustering': {\n",
    "            'n_clusters': [70, 80, 90, 100],\n",
    "            'random_state': [0],\n",
    "        },\n",
    "        \"use_dim_reduction\": True\n",
    "        # 'n_init': \"auto\",\n",
    "        # n_clusters=6, random_state=0, n_init=\"auto\"\n",
    "    },\n",
    "    \n",
    "    \n",
    "}\n",
    "\n",
    "model_classes = {\n",
    "    'HDBSCAN': hdbscan.HDBSCAN,\n",
    "    'KMean': KMeans\n",
    "}\n",
    "\n",
    "model_result = {\n",
    "    'HDBSCAN': [],\n",
    "    'KMean': []\n",
    "}\n",
    "\n",
    "def get_model_result(model_name):\n",
    "    logger.info(f\"{model_name}\")               \n",
    "    model_detail = {}    \n",
    "        \n",
    "    umap_keys = list(parameters[model_name]['umap'].keys())\n",
    "    umap_values = parameters[model_name]['umap'].values()\n",
    "    umap_all_combinations = list(itertools.product(*umap_values))\n",
    "    \n",
    "    clustering_keys = list(parameters[model_name]['clustering'].keys())\n",
    "    clustering_values = parameters[model_name]['clustering'].values()\n",
    "    clustering_all_combinations = list(itertools.product(*clustering_values))\n",
    "    \n",
    "    model_result[model_name] = []\n",
    "    \n",
    "    for umap_parameter_value in umap_all_combinations:\n",
    "        umap_parameter_result = {}\n",
    "        for i_parameter in range(len(umap_parameter_value)):\n",
    "            umap_parameter_result[umap_keys[i_parameter]] = umap_parameter_value[i_parameter]\n",
    "            \n",
    "        logger.info(f'         umap parameter_result {umap_parameter_result}')   \n",
    "        \n",
    "        \n",
    "        for clustering_parameter_value in clustering_all_combinations:\n",
    "            clustering_parameter_result = {}\n",
    "            for i_parameter in range(len(clustering_parameter_value)):\n",
    "                clustering_parameter_result[clustering_keys[i_parameter]] = clustering_parameter_value[i_parameter]\n",
    "                \n",
    "            logger.info(f'          clustering parameter_result {clustering_parameter_result}')\n",
    "         \n",
    "            # model =  model_classes[model_name](**parameter_result)     \n",
    "            dict_result, df_result = find_cluster(\n",
    "                umap_parameter_result, \n",
    "                clustering_parameter_result, \n",
    "                parameters[model_name]['use_dim_reduction'],\n",
    "                model_name\n",
    "            )  \n",
    "            model_result[model_name].append(dict_result) \n",
    "    \n",
    "    return model_result[model_name]\n",
    "            \n",
    "            \n",
    "    "
   ]
  },
  {
   "cell_type": "code",
   "execution_count": 37,
   "metadata": {},
   "outputs": [],
   "source": [
    "def find_cluster(umap_param, clustering_param, use_dim_reduction, model_name):    \n",
    "    if use_dim_reduction:\n",
    "        X_input = umap.UMAP(**umap_param).fit_transform(X)\n",
    "    else:\n",
    "        X_input = X\n",
    "    clusterer = model_classes[model_name](**clustering_param)\n",
    "    hdbscan_cluster = clusterer.fit_predict(X_input)\n",
    "    df_hscode4['cluster_group_id'] = hdbscan_cluster\n",
    "    \n",
    "    dict_result, df_result = calculate_all_metric(df_hscode4, X_input)\n",
    "    dict_result['umap_param'] = umap_param\n",
    "    dict_result['clustering_param'] = clustering_param\n",
    "    logger.info(f'               result {dict_result}')\n",
    "    return  dict_result, df_result"
   ]
  },
  {
   "cell_type": "code",
   "execution_count": 43,
   "metadata": {},
   "outputs": [
    {
     "name": "stderr",
     "output_type": "stream",
     "text": [
      "2023-01-23 11:10:06 INFO     HDBSCAN\n",
      "2023-01-23 11:10:06 INFO              umap parameter_result {'n_neighbors': 5, 'n_components': 3}\n",
      "2023-01-23 11:10:06 INFO               clustering parameter_result {'alpha': 1.0, 'min_cluster_size': 3}\n",
      "2023-01-23 11:10:14 INFO                    result {'acc_mean': 0.4894858161568538, 'silhouette': 0.34601808, 'cluster_size': 232, 'n_noise': 457, 'n_top_20_cluster': array([61, 42, 23, 23, 23, 22, 22, 21, 20, 19, 19, 18, 18, 17, 16, 16, 16,\n",
      "       16, 15, 14]), 'umap_param': {'n_neighbors': 5, 'n_components': 3}, 'clustering_param': {'alpha': 1.0, 'min_cluster_size': 3}}\n",
      "2023-01-23 11:10:14 INFO               clustering parameter_result {'alpha': 1.0, 'min_cluster_size': 5}\n",
      "2023-01-23 11:10:21 INFO                    result {'acc_mean': 0.5097491603189267, 'silhouette': 0.28638348, 'cluster_size': 131, 'n_noise': 589, 'n_top_20_cluster': array([80, 55, 47, 46, 41, 31, 29, 29, 28, 26, 25, 24, 23, 23, 23, 23, 23,\n",
      "       22, 22, 21]), 'umap_param': {'n_neighbors': 5, 'n_components': 3}, 'clustering_param': {'alpha': 1.0, 'min_cluster_size': 5}}\n",
      "2023-01-23 11:10:21 INFO               clustering parameter_result {'alpha': 1.0, 'min_cluster_size': 7}\n",
      "2023-01-23 11:10:28 INFO                    result {'acc_mean': 0.553911381279433, 'silhouette': 0.2811061, 'cluster_size': 89, 'n_noise': 537, 'n_top_20_cluster': array([131,  84,  66,  64,  61,  54,  50,  38,  38,  38,  37,  34,  33,\n",
      "        32,  32,  32,  32,  31,  31,  30]), 'umap_param': {'n_neighbors': 5, 'n_components': 3}, 'clustering_param': {'alpha': 1.0, 'min_cluster_size': 7}}\n",
      "2023-01-23 11:10:28 INFO               clustering parameter_result {'alpha': 1.0, 'min_cluster_size': 9}\n",
      "2023-01-23 11:10:37 INFO                    result {'acc_mean': 0.5399495623169913, 'silhouette': 0.234264, 'cluster_size': 70, 'n_noise': 654, 'n_top_20_cluster': array([134,  84,  69,  67,  65,  57,  56,  53,  50,  45,  39,  37,  34,\n",
      "        31,  31,  31,  31,  31,  29,  26]), 'umap_param': {'n_neighbors': 5, 'n_components': 3}, 'clustering_param': {'alpha': 1.0, 'min_cluster_size': 9}}\n",
      "2023-01-23 11:10:37 INFO               clustering parameter_result {'alpha': 1.0, 'min_cluster_size': 11}\n",
      "2023-01-23 11:10:46 INFO                    result {'acc_mean': 0.522902408246542, 'silhouette': 0.15933336, 'cluster_size': 48, 'n_noise': 675, 'n_top_20_cluster': array([269, 125,  80,  75,  70,  60,  59,  58,  57,  56,  50,  50,  38,\n",
      "        36,  34,  33,  31,  31,  30,  29]), 'umap_param': {'n_neighbors': 5, 'n_components': 3}, 'clustering_param': {'alpha': 1.0, 'min_cluster_size': 11}}\n",
      "2023-01-23 11:10:46 INFO               clustering parameter_result {'alpha': 1.0, 'min_cluster_size': 13}\n",
      "2023-01-23 11:10:55 INFO                    result {'acc_mean': 0.48235861328951096, 'silhouette': 0.18954349, 'cluster_size': 44, 'n_noise': 772, 'n_top_20_cluster': array([109, 101,  95,  73,  68,  65,  64,  61,  61,  54,  53,  52,  47,\n",
      "        47,  46,  40,  36,  32,  32,  32]), 'umap_param': {'n_neighbors': 5, 'n_components': 3}, 'clustering_param': {'alpha': 1.0, 'min_cluster_size': 13}}\n",
      "2023-01-23 11:10:55 INFO               clustering parameter_result {'alpha': 1.0, 'min_cluster_size': 15}\n",
      "2023-01-23 11:11:04 INFO                    result {'acc_mean': 0.5406783320293927, 'silhouette': 0.12700436, 'cluster_size': 31, 'n_noise': 728, 'n_top_20_cluster': array([314, 192, 144,  88,  65,  62,  61,  57,  56,  56,  48,  47,  46,\n",
      "        44,  38,  33,  32,  31,  30,  29]), 'umap_param': {'n_neighbors': 5, 'n_components': 3}, 'clustering_param': {'alpha': 1.0, 'min_cluster_size': 15}}\n",
      "2023-01-23 11:11:04 INFO               clustering parameter_result {'alpha': 1.0, 'min_cluster_size': 17}\n",
      "2023-01-23 11:11:14 INFO                    result {'acc_mean': 0.4448651370031313, 'silhouette': 0.047630206, 'cluster_size': 31, 'n_noise': 994, 'n_top_20_cluster': array([163, 120, 102,  90,  80,  67,  54,  52,  52,  52,  51,  51,  48,\n",
      "        44,  33,  32,  32,  31,  30,  29]), 'umap_param': {'n_neighbors': 5, 'n_components': 3}, 'clustering_param': {'alpha': 1.0, 'min_cluster_size': 17}}\n",
      "2023-01-23 11:11:14 INFO               clustering parameter_result {'alpha': 1.0, 'min_cluster_size': 19}\n",
      "2023-01-23 11:11:24 INFO                    result {'acc_mean': 0.9802660274068793, 'silhouette': 0.46947578, 'cluster_size': 2, 'n_noise': 66, 'n_top_20_cluster': array([2321,   40]), 'umap_param': {'n_neighbors': 5, 'n_components': 3}, 'clustering_param': {'alpha': 1.0, 'min_cluster_size': 19}}\n"
     ]
    }
   ],
   "source": [
    "result_list = get_model_result('HDBSCAN')"
   ]
  },
  {
   "cell_type": "code",
   "execution_count": 38,
   "metadata": {},
   "outputs": [
    {
     "name": "stderr",
     "output_type": "stream",
     "text": [
      "2023-01-23 11:55:56 INFO     KMean\n",
      "2023-01-23 11:55:56 INFO              umap parameter_result {'n_components': 3}\n",
      "2023-01-23 11:55:56 INFO               clustering parameter_result {'n_clusters': 70, 'random_state': 0}\n",
      "/home/patcharapon/miniconda3/envs/mdm/lib/python3.8/site-packages/sklearn/cluster/_kmeans.py:870: FutureWarning: The default value of `n_init` will change from 10 to 'auto' in 1.4. Set the value of `n_init` explicitly to suppress the warning\n",
      "  warnings.warn(\n",
      "2023-01-23 11:56:08 INFO                    result {'acc_mean': 0.623331200211498, 'silhouette': 0.43995208, 'cluster_size': 70, 'n_noise': 0, 'n_top_20_cluster': array([84, 80, 72, 68, 65, 60, 58, 55, 54, 54, 52, 51, 51, 48, 48, 47, 42,\n",
      "       42, 41, 40]), 'umap_param': {'n_components': 3}, 'clustering_param': {'n_clusters': 70, 'random_state': 0}}\n",
      "2023-01-23 11:56:08 INFO               clustering parameter_result {'n_clusters': 80, 'random_state': 0}\n",
      "/home/patcharapon/miniconda3/envs/mdm/lib/python3.8/site-packages/sklearn/cluster/_kmeans.py:870: FutureWarning: The default value of `n_init` will change from 10 to 'auto' in 1.4. Set the value of `n_init` explicitly to suppress the warning\n",
      "  warnings.warn(\n",
      "2023-01-23 11:56:18 INFO                    result {'acc_mean': 0.634987875672429, 'silhouette': 0.41548124, 'cluster_size': 80, 'n_noise': 0, 'n_top_20_cluster': array([66, 63, 61, 52, 52, 49, 47, 47, 46, 46, 42, 41, 40, 40, 40, 39, 39,\n",
      "       39, 38, 38]), 'umap_param': {'n_components': 3}, 'clustering_param': {'n_clusters': 80, 'random_state': 0}}\n",
      "2023-01-23 11:56:18 INFO               clustering parameter_result {'n_clusters': 90, 'random_state': 0}\n",
      "/home/patcharapon/miniconda3/envs/mdm/lib/python3.8/site-packages/sklearn/cluster/_kmeans.py:870: FutureWarning: The default value of `n_init` will change from 10 to 'auto' in 1.4. Set the value of `n_init` explicitly to suppress the warning\n",
      "  warnings.warn(\n",
      "2023-01-23 11:56:28 INFO                    result {'acc_mean': 0.6041481724221685, 'silhouette': 0.41968623, 'cluster_size': 90, 'n_noise': 0, 'n_top_20_cluster': array([69, 67, 58, 51, 49, 44, 43, 41, 41, 41, 40, 40, 40, 39, 38, 37, 37,\n",
      "       37, 35, 34]), 'umap_param': {'n_components': 3}, 'clustering_param': {'n_clusters': 90, 'random_state': 0}}\n",
      "2023-01-23 11:56:28 INFO               clustering parameter_result {'n_clusters': 100, 'random_state': 0}\n",
      "/home/patcharapon/miniconda3/envs/mdm/lib/python3.8/site-packages/sklearn/cluster/_kmeans.py:870: FutureWarning: The default value of `n_init` will change from 10 to 'auto' in 1.4. Set the value of `n_init` explicitly to suppress the warning\n",
      "  warnings.warn(\n",
      "2023-01-23 11:56:38 INFO                    result {'acc_mean': 0.6067304670930048, 'silhouette': 0.42571747, 'cluster_size': 100, 'n_noise': 0, 'n_top_20_cluster': array([64, 58, 48, 46, 45, 44, 41, 40, 40, 38, 37, 36, 36, 35, 35, 35, 34,\n",
      "       34, 34, 34]), 'umap_param': {'n_components': 3}, 'clustering_param': {'n_clusters': 100, 'random_state': 0}}\n",
      "2023-01-23 11:56:38 INFO              umap parameter_result {'n_components': 4}\n",
      "2023-01-23 11:56:38 INFO               clustering parameter_result {'n_clusters': 70, 'random_state': 0}\n",
      "/home/patcharapon/miniconda3/envs/mdm/lib/python3.8/site-packages/sklearn/cluster/_kmeans.py:870: FutureWarning: The default value of `n_init` will change from 10 to 'auto' in 1.4. Set the value of `n_init` explicitly to suppress the warning\n",
      "  warnings.warn(\n",
      "2023-01-23 11:56:49 INFO                    result {'acc_mean': 0.6395054828896006, 'silhouette': 0.4274013, 'cluster_size': 70, 'n_noise': 0, 'n_top_20_cluster': array([95, 85, 79, 71, 56, 56, 54, 53, 52, 51, 50, 50, 49, 47, 44, 43, 42,\n",
      "       42, 41, 41]), 'umap_param': {'n_components': 4}, 'clustering_param': {'n_clusters': 70, 'random_state': 0}}\n",
      "2023-01-23 11:56:49 INFO               clustering parameter_result {'n_clusters': 80, 'random_state': 0}\n",
      "/home/patcharapon/miniconda3/envs/mdm/lib/python3.8/site-packages/sklearn/cluster/_kmeans.py:870: FutureWarning: The default value of `n_init` will change from 10 to 'auto' in 1.4. Set the value of `n_init` explicitly to suppress the warning\n",
      "  warnings.warn(\n",
      "2023-01-23 11:57:00 INFO                    result {'acc_mean': 0.6267134442952179, 'silhouette': 0.41547093, 'cluster_size': 80, 'n_noise': 0, 'n_top_20_cluster': array([75, 69, 65, 63, 62, 61, 52, 47, 45, 45, 44, 44, 43, 43, 42, 41, 40,\n",
      "       40, 39, 38]), 'umap_param': {'n_components': 4}, 'clustering_param': {'n_clusters': 80, 'random_state': 0}}\n",
      "2023-01-23 11:57:00 INFO               clustering parameter_result {'n_clusters': 90, 'random_state': 0}\n",
      "/home/patcharapon/miniconda3/envs/mdm/lib/python3.8/site-packages/sklearn/cluster/_kmeans.py:870: FutureWarning: The default value of `n_init` will change from 10 to 'auto' in 1.4. Set the value of `n_init` explicitly to suppress the warning\n",
      "  warnings.warn(\n",
      "2023-01-23 11:57:10 INFO                    result {'acc_mean': 0.6134763167905817, 'silhouette': 0.4216972, 'cluster_size': 90, 'n_noise': 0, 'n_top_20_cluster': array([82, 73, 71, 62, 57, 51, 46, 43, 42, 41, 41, 40, 40, 38, 36, 35, 34,\n",
      "       33, 33, 33]), 'umap_param': {'n_components': 4}, 'clustering_param': {'n_clusters': 90, 'random_state': 0}}\n",
      "2023-01-23 11:57:10 INFO               clustering parameter_result {'n_clusters': 100, 'random_state': 0}\n",
      "/home/patcharapon/miniconda3/envs/mdm/lib/python3.8/site-packages/sklearn/cluster/_kmeans.py:870: FutureWarning: The default value of `n_init` will change from 10 to 'auto' in 1.4. Set the value of `n_init` explicitly to suppress the warning\n",
      "  warnings.warn(\n",
      "2023-01-23 11:57:20 INFO                    result {'acc_mean': 0.6009050965228341, 'silhouette': 0.41071388, 'cluster_size': 100, 'n_noise': 0, 'n_top_20_cluster': array([72, 62, 47, 46, 44, 41, 41, 40, 39, 39, 39, 39, 39, 37, 35, 35, 33,\n",
      "       33, 33, 32]), 'umap_param': {'n_components': 4}, 'clustering_param': {'n_clusters': 100, 'random_state': 0}}\n",
      "2023-01-23 11:57:20 INFO              umap parameter_result {'n_components': 5}\n",
      "2023-01-23 11:57:20 INFO               clustering parameter_result {'n_clusters': 70, 'random_state': 0}\n",
      "/home/patcharapon/miniconda3/envs/mdm/lib/python3.8/site-packages/sklearn/cluster/_kmeans.py:870: FutureWarning: The default value of `n_init` will change from 10 to 'auto' in 1.4. Set the value of `n_init` explicitly to suppress the warning\n",
      "  warnings.warn(\n",
      "2023-01-23 11:57:32 INFO                    result {'acc_mean': 0.6435167289606782, 'silhouette': 0.42888185, 'cluster_size': 70, 'n_noise': 0, 'n_top_20_cluster': array([83, 77, 75, 72, 71, 70, 66, 57, 51, 50, 49, 49, 48, 47, 47, 46, 43,\n",
      "       42, 41, 41]), 'umap_param': {'n_components': 5}, 'clustering_param': {'n_clusters': 70, 'random_state': 0}}\n",
      "2023-01-23 11:57:32 INFO               clustering parameter_result {'n_clusters': 80, 'random_state': 0}\n",
      "/home/patcharapon/miniconda3/envs/mdm/lib/python3.8/site-packages/sklearn/cluster/_kmeans.py:870: FutureWarning: The default value of `n_init` will change from 10 to 'auto' in 1.4. Set the value of `n_init` explicitly to suppress the warning\n",
      "  warnings.warn(\n",
      "2023-01-23 11:57:43 INFO                    result {'acc_mean': 0.6420691055094975, 'silhouette': 0.41783303, 'cluster_size': 80, 'n_noise': 0, 'n_top_20_cluster': array([78, 75, 71, 70, 58, 50, 50, 49, 47, 43, 43, 43, 41, 39, 38, 38, 37,\n",
      "       37, 37, 36]), 'umap_param': {'n_components': 5}, 'clustering_param': {'n_clusters': 80, 'random_state': 0}}\n",
      "2023-01-23 11:57:43 INFO               clustering parameter_result {'n_clusters': 90, 'random_state': 0}\n",
      "/home/patcharapon/miniconda3/envs/mdm/lib/python3.8/site-packages/sklearn/cluster/_kmeans.py:870: FutureWarning: The default value of `n_init` will change from 10 to 'auto' in 1.4. Set the value of `n_init` explicitly to suppress the warning\n",
      "  warnings.warn(\n",
      "2023-01-23 11:57:54 INFO                    result {'acc_mean': 0.626083243581477, 'silhouette': 0.4276951, 'cluster_size': 90, 'n_noise': 0, 'n_top_20_cluster': array([79, 74, 69, 65, 65, 55, 44, 43, 42, 39, 38, 38, 37, 36, 36, 35, 35,\n",
      "       35, 35, 34]), 'umap_param': {'n_components': 5}, 'clustering_param': {'n_clusters': 90, 'random_state': 0}}\n",
      "2023-01-23 11:57:54 INFO               clustering parameter_result {'n_clusters': 100, 'random_state': 0}\n",
      "/home/patcharapon/miniconda3/envs/mdm/lib/python3.8/site-packages/sklearn/cluster/_kmeans.py:870: FutureWarning: The default value of `n_init` will change from 10 to 'auto' in 1.4. Set the value of `n_init` explicitly to suppress the warning\n",
      "  warnings.warn(\n",
      "2023-01-23 11:58:03 INFO                    result {'acc_mean': 0.6172819024511823, 'silhouette': 0.41359785, 'cluster_size': 100, 'n_noise': 0, 'n_top_20_cluster': array([63, 52, 49, 47, 45, 43, 43, 40, 40, 39, 37, 37, 36, 35, 34, 33, 33,\n",
      "       33, 33, 33]), 'umap_param': {'n_components': 5}, 'clustering_param': {'n_clusters': 100, 'random_state': 0}}\n"
     ]
    }
   ],
   "source": [
    "result_list = get_model_result('KMean')"
   ]
  },
  {
   "cell_type": "code",
   "execution_count": 27,
   "metadata": {},
   "outputs": [
    {
     "data": {
      "text/plain": [
       "[{'acc_mean': 0.5938045472603336,\n",
       "  'silhouette': 0.4241444,\n",
       "  'cluster_size': 90,\n",
       "  'n_noise': 0,\n",
       "  'n_top_20_cluster': array([75, 62, 61, 52, 52, 46, 41, 39, 39, 38, 37, 36, 35, 35, 35, 35, 35,\n",
       "         35, 35, 34]),\n",
       "  'umap_param': {'n_components': 3},\n",
       "  'clustering_param': {'n_clusters': 90, 'random_state': 0}}]"
      ]
     },
     "execution_count": 27,
     "metadata": {},
     "output_type": "execute_result"
    }
   ],
   "source": [
    "result_list"
   ]
  },
  {
   "cell_type": "code",
   "execution_count": 44,
   "metadata": {},
   "outputs": [],
   "source": [
    "# result_list = []\n",
    "# for threshold in np.arange(0.15, 1.0, 0.05):    \n",
    "#     dict_result, df_result = find_community(threshold=threshold)\n",
    "#     result_list.append(dict_result)\n",
    "#     print(dict_result)"
   ]
  },
  {
   "cell_type": "code",
   "execution_count": 45,
   "metadata": {},
   "outputs": [],
   "source": [
    "df_result_all = pd.DataFrame(result_list)\n",
    "df_result_all.to_csv('HDBSCAN_output.csv',index=False, sep='\\t')"
   ]
  },
  {
   "cell_type": "code",
   "execution_count": null,
   "metadata": {},
   "outputs": [],
   "source": [
    "df_result_all = pd.DataFrame(result_list)\n",
    "df_result_all.to_csv('KMean_output.csv',index=False, sep='\\t')"
   ]
  },
  {
   "cell_type": "code",
   "execution_count": null,
   "metadata": {},
   "outputs": [],
   "source": [
    "# dict_result, df_result = find_community(threshold=0.5)"
   ]
  }
 ],
 "metadata": {
  "kernelspec": {
   "display_name": "Python 3.8.15 ('mdm')",
   "language": "python",
   "name": "python3"
  },
  "language_info": {
   "codemirror_mode": {
    "name": "ipython",
    "version": 3
   },
   "file_extension": ".py",
   "mimetype": "text/x-python",
   "name": "python",
   "nbconvert_exporter": "python",
   "pygments_lexer": "ipython3",
   "version": "3.8.15"
  },
  "vscode": {
   "interpreter": {
    "hash": "c2efc473d0a0d50c19a5adbeac08e391174523270bbcd5ecc02a4aa5f4c81327"
   }
  }
 },
 "nbformat": 4,
 "nbformat_minor": 2
}
