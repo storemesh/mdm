{
 "cells": [
  {
   "cell_type": "code",
   "execution_count": 8,
   "metadata": {},
   "outputs": [],
   "source": [
    "import pandas as pd\n",
    "import textdistance"
   ]
  },
  {
   "cell_type": "code",
   "execution_count": 5,
   "metadata": {},
   "outputs": [],
   "source": [
    "df = pd.read_csv('dataset/text_distance/dataset.csv')"
   ]
  },
  {
   "cell_type": "code",
   "execution_count": 6,
   "metadata": {},
   "outputs": [
    {
     "data": {
      "text/html": [
       "<div>\n",
       "<style scoped>\n",
       "    .dataframe tbody tr th:only-of-type {\n",
       "        vertical-align: middle;\n",
       "    }\n",
       "\n",
       "    .dataframe tbody tr th {\n",
       "        vertical-align: top;\n",
       "    }\n",
       "\n",
       "    .dataframe thead th {\n",
       "        text-align: right;\n",
       "    }\n",
       "</style>\n",
       "<table border=\"1\" class=\"dataframe\">\n",
       "  <thead>\n",
       "    <tr style=\"text-align: right;\">\n",
       "      <th></th>\n",
       "      <th>Query</th>\n",
       "      <th>Key</th>\n",
       "    </tr>\n",
       "  </thead>\n",
       "  <tbody>\n",
       "    <tr>\n",
       "      <th>0</th>\n",
       "      <td>ชัชชาติ</td>\n",
       "      <td>รองศาสตราจารย์ ชัชชาติ สิทธิพันธุ์</td>\n",
       "    </tr>\n",
       "    <tr>\n",
       "      <th>1</th>\n",
       "      <td>ชัชชาติ สิทธิพันธุ์</td>\n",
       "      <td>รองศาสตราจารย์ ชัชชาติ สิทธิพันธุ์</td>\n",
       "    </tr>\n",
       "    <tr>\n",
       "      <th>2</th>\n",
       "      <td>ผู้ว่าฯชัชชาติ</td>\n",
       "      <td>รองศาสตราจารย์ ชัชชาติ สิทธิพันธุ์</td>\n",
       "    </tr>\n",
       "    <tr>\n",
       "      <th>3</th>\n",
       "      <td>ชัชชาติ สิทธิพันธุ์</td>\n",
       "      <td>รองศาสตราจารย์ ชัชชาติ สิทธิพันธุ์</td>\n",
       "    </tr>\n",
       "    <tr>\n",
       "      <th>4</th>\n",
       "      <td>เบิร์ด ธงไชย</td>\n",
       "      <td>ธงไชย แมคอินไตย์</td>\n",
       "    </tr>\n",
       "    <tr>\n",
       "      <th>5</th>\n",
       "      <td>พี่เบิร์ด ธงไชย</td>\n",
       "      <td>ธงไชย แมคอินไตย์</td>\n",
       "    </tr>\n",
       "    <tr>\n",
       "      <th>6</th>\n",
       "      <td>เบิร์ด ธงไชย แมคอินไตย์</td>\n",
       "      <td>ธงไชย แมคอินไตย์</td>\n",
       "    </tr>\n",
       "    <tr>\n",
       "      <th>7</th>\n",
       "      <td>เบิร์ด-ธงไชย</td>\n",
       "      <td>ธงไชย แมคอินไตย์</td>\n",
       "    </tr>\n",
       "    <tr>\n",
       "      <th>8</th>\n",
       "      <td>CP All (ซีพี ออลล์)</td>\n",
       "      <td>บริษัท ซีพี ออลล์ จํากัด (มหาชน)</td>\n",
       "    </tr>\n",
       "    <tr>\n",
       "      <th>9</th>\n",
       "      <td>ซีพี ออลล์</td>\n",
       "      <td>CP ALL PUBLIC COMPANY LIMITED</td>\n",
       "    </tr>\n",
       "    <tr>\n",
       "      <th>10</th>\n",
       "      <td>CPALL</td>\n",
       "      <td>CP ALL PUBLIC COMPANY LIMITED</td>\n",
       "    </tr>\n",
       "    <tr>\n",
       "      <th>11</th>\n",
       "      <td>cp all</td>\n",
       "      <td>CP ALL PUBLIC COMPANY LIMITED</td>\n",
       "    </tr>\n",
       "    <tr>\n",
       "      <th>12</th>\n",
       "      <td>CP All PCL</td>\n",
       "      <td>CP ALL PUBLIC COMPANY LIMITED</td>\n",
       "    </tr>\n",
       "    <tr>\n",
       "      <th>13</th>\n",
       "      <td>บริษัท ปตท</td>\n",
       "      <td>บริษัท ปตท. จำกัด (มหาชน)</td>\n",
       "    </tr>\n",
       "    <tr>\n",
       "      <th>14</th>\n",
       "      <td>ปตท.</td>\n",
       "      <td>บริษัท ปตท. จำกัด (มหาชน)</td>\n",
       "    </tr>\n",
       "    <tr>\n",
       "      <th>15</th>\n",
       "      <td>PTT</td>\n",
       "      <td>PTT Public Company Limited</td>\n",
       "    </tr>\n",
       "    <tr>\n",
       "      <th>16</th>\n",
       "      <td>PTT PCL</td>\n",
       "      <td>PTT Public Company Limited</td>\n",
       "    </tr>\n",
       "    <tr>\n",
       "      <th>17</th>\n",
       "      <td>ปตท</td>\n",
       "      <td>บริษัท ปตท. จำกัด (มหาชน)</td>\n",
       "    </tr>\n",
       "  </tbody>\n",
       "</table>\n",
       "</div>"
      ],
      "text/plain": [
       "                      Query                                 Key\n",
       "0                   ชัชชาติ  รองศาสตราจารย์ ชัชชาติ สิทธิพันธุ์\n",
       "1       ชัชชาติ สิทธิพันธุ์  รองศาสตราจารย์ ชัชชาติ สิทธิพันธุ์\n",
       "2            ผู้ว่าฯชัชชาติ  รองศาสตราจารย์ ชัชชาติ สิทธิพันธุ์\n",
       "3       ชัชชาติ สิทธิพันธุ์  รองศาสตราจารย์ ชัชชาติ สิทธิพันธุ์\n",
       "4              เบิร์ด ธงไชย                    ธงไชย แมคอินไตย์\n",
       "5           พี่เบิร์ด ธงไชย                    ธงไชย แมคอินไตย์\n",
       "6   เบิร์ด ธงไชย แมคอินไตย์                    ธงไชย แมคอินไตย์\n",
       "7              เบิร์ด-ธงไชย                    ธงไชย แมคอินไตย์\n",
       "8       CP All (ซีพี ออลล์)    บริษัท ซีพี ออลล์ จํากัด (มหาชน)\n",
       "9               ซีพี ออลล์        CP ALL PUBLIC COMPANY LIMITED\n",
       "10                    CPALL       CP ALL PUBLIC COMPANY LIMITED\n",
       "11                   cp all       CP ALL PUBLIC COMPANY LIMITED\n",
       "12               CP All PCL       CP ALL PUBLIC COMPANY LIMITED\n",
       "13               บริษัท ปตท           บริษัท ปตท. จำกัด (มหาชน)\n",
       "14                     ปตท.           บริษัท ปตท. จำกัด (มหาชน)\n",
       "15                      PTT         PTT Public Company Limited \n",
       "16                 PTT PCL          PTT Public Company Limited \n",
       "17                      ปตท           บริษัท ปตท. จำกัด (มหาชน)"
      ]
     },
     "execution_count": 6,
     "metadata": {},
     "output_type": "execute_result"
    }
   ],
   "source": [
    "df"
   ]
  },
  {
   "cell_type": "code",
   "execution_count": null,
   "metadata": {},
   "outputs": [],
   "source": []
  },
  {
   "cell_type": "code",
   "execution_count": 33,
   "metadata": {},
   "outputs": [
    {
     "data": {
      "text/plain": [
       "0.5522875816993464"
      ]
     },
     "execution_count": 33,
     "metadata": {},
     "output_type": "execute_result"
    }
   ],
   "source": [
    "textdistance.jaro_winkler.distance('เบิร์ด ธงไชย', 'รองศาสตราจารย์ ชัชชาติ สิทธิพันธุ์')"
   ]
  },
  {
   "cell_type": "code",
   "execution_count": 36,
   "metadata": {},
   "outputs": [
    {
     "data": {
      "text/plain": [
       "0.050000000000000044"
      ]
     },
     "execution_count": 36,
     "metadata": {},
     "output_type": "execute_result"
    }
   ],
   "source": [
    "textdistance.jaro_winkler.distance('เบิร์ด ธงไชย', 'เบิร์ด ธงไชยdddd')"
   ]
  },
  {
   "cell_type": "code",
   "execution_count": 34,
   "metadata": {},
   "outputs": [
    {
     "data": {
      "text/plain": [
       "0.5277777777777779"
      ]
     },
     "execution_count": 34,
     "metadata": {},
     "output_type": "execute_result"
    }
   ],
   "source": [
    "textdistance.jaro_winkler.distance('เบิร์ด ธงไชย', 'บริษัท')"
   ]
  },
  {
   "cell_type": "code",
   "execution_count": 7,
   "metadata": {},
   "outputs": [
    {
     "name": "stdout",
     "output_type": "stream",
     "text": [
      "Collecting textdistance\n",
      "  Downloading textdistance-4.5.0-py3-none-any.whl (31 kB)\n",
      "Installing collected packages: textdistance\n",
      "Successfully installed textdistance-4.5.0\n"
     ]
    }
   ],
   "source": [
    "! pip install textdistance"
   ]
  }
 ],
 "metadata": {
  "kernelspec": {
   "display_name": "Python 3 (ipykernel)",
   "language": "python",
   "name": "python3"
  },
  "language_info": {
   "codemirror_mode": {
    "name": "ipython",
    "version": 3
   },
   "file_extension": ".py",
   "mimetype": "text/x-python",
   "name": "python",
   "nbconvert_exporter": "python",
   "pygments_lexer": "ipython3",
   "version": "3.8.15"
  }
 },
 "nbformat": 4,
 "nbformat_minor": 2
}
