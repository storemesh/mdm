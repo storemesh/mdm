{
 "cells": [
  {
   "cell_type": "code",
   "execution_count": 1,
   "metadata": {},
   "outputs": [],
   "source": [
    "import pandas as pd\n",
    "import numpy as np\n",
    "from sentence_transformers import SentenceTransformer, util\n",
    "from sklearn.cluster import DBSCAN, OPTICS, KMeans\n",
    "from sklearn import metrics\n",
    "import hdbscan\n",
    "import umap\n",
    "import umap.plot"
   ]
  },
  {
   "cell_type": "code",
   "execution_count": 2,
   "metadata": {},
   "outputs": [],
   "source": [
    "# df = pd.read_csv('dataset/text_distance/dataset.csv')\n",
    "df = pd.read_csv('dataset/semantic_similarity/dataset.csv')"
   ]
  },
  {
   "cell_type": "code",
   "execution_count": 3,
   "metadata": {},
   "outputs": [],
   "source": [
    "model = SentenceTransformer('distiluse-base-multilingual-cased-v2')"
   ]
  },
  {
   "cell_type": "code",
   "execution_count": 4,
   "metadata": {},
   "outputs": [],
   "source": [
    "sentences1 = df['Query'].values\n",
    "sentences2 = df['Key'].unique()"
   ]
  },
  {
   "cell_type": "code",
   "execution_count": 5,
   "metadata": {},
   "outputs": [],
   "source": [
    "sentences_text = np.append(sentences1, sentences2)"
   ]
  },
  {
   "cell_type": "code",
   "execution_count": 6,
   "metadata": {},
   "outputs": [],
   "source": [
    "#Compute embedding for both lists\n",
    "X = model.encode(sentences_text, convert_to_tensor=True)"
   ]
  },
  {
   "cell_type": "markdown",
   "metadata": {},
   "source": [
    "#### HDBSCAN + UMAP"
   ]
  },
  {
   "cell_type": "code",
   "execution_count": 59,
   "metadata": {},
   "outputs": [
    {
     "data": {
      "text/plain": [
       "array([0, 0, 0, 0, 1, 1, 1, 1, 1, 1, 1, 1, 0, 0, 1, 1, 1, 1])"
      ]
     },
     "execution_count": 59,
     "metadata": {},
     "output_type": "execute_result"
    }
   ],
   "source": [
    "X_umap = umap.UMAP(n_neighbors=5, n_components=3).fit_transform(X)\n",
    "clusterer = hdbscan.HDBSCAN(alpha=1.0, min_cluster_size=5)\n",
    "hdbscan_cluster = clusterer.fit_predict(X_umap)\n",
    "hdbscan_cluster"
   ]
  },
  {
   "cell_type": "markdown",
   "metadata": {},
   "source": [
    "##### silhouette score"
   ]
  },
  {
   "cell_type": "code",
   "execution_count": 60,
   "metadata": {},
   "outputs": [
    {
     "data": {
      "text/plain": [
       "0.6631146"
      ]
     },
     "execution_count": 60,
     "metadata": {},
     "output_type": "execute_result"
    }
   ],
   "source": [
    "hdbscan_silhouette = metrics.silhouette_score(X_umap, hdbscan_cluster, metric='euclidean')\n",
    "hdbscan_silhouette"
   ]
  },
  {
   "cell_type": "code",
   "execution_count": 61,
   "metadata": {},
   "outputs": [
    {
     "name": "stdout",
     "output_type": "stream",
     "text": [
      "--- group: 0 ---\n",
      "    0: ข้าวโพด\n",
      "    1: Maize (corn).\n",
      "    2: ข้าว\n",
      "    3: Rice.\n",
      "    12: ธัญพืช\n",
      "    13: Cereals\n",
      "--- group: 1 ---\n",
      "    4: น้ำเลี้ยง (แซป) และสิ่งสกัดจากพืช สารจำพวกเพกติก เกลือของกรดเพกตินิก (เพกติเนต) และเกลือของเพกติก (เพกเตต)  รวมทั้งวุ้นที่ได้จากสาหร่ายทะเล และวุ้นและยางข้นอื่น ๆ ที่ได้จากผลิตภัณฑ์จากพืช จะดัดแปลงหรือไม่ก็ตาม\n",
      "    5: Vegetable saps and extracts; pectic substances, pectinates and pectates; agar-agar and other mucilages and thickeners, whether or not modified, derived from vegetable products.\n",
      "    6: น้ำมันมะพร้าว น้ำมันเนื้อในเมล็ดปาล์ม น้ำมันบาบาสสุ และเศษของน้ำมันดังกล่าว จะทำให้บริสุทธิ์หรือไม่ก็ตาม แต่ต้องไม่ดัดแปลงทางเคมี\n",
      "    7: Coconut (copra), palm kernel or babassu oil and fractions thereof, whether or not refined, but not chemically modified.\n",
      "    8: ไขมันและน้ำมันชนิดระเหยยากอื่น ๆ ที่ได้จากพืช  (รวมถึงน้ำมันโจโจบา)  และเศษของของดังกล่าว  (นอกจากที่ระบุไว้ตามประเภทที่ 15.07 ถึง 15.14  เช่น               น้ำมันถั่วเหลือง น้ำมันถั่วลิสง น้ำมันมะกอก น้ำมันปาล์ม น้ำมันที่ได้จากเมล็ดทานตะวัน น้ำมันเมล็ดฝ\n",
      "    9: Other fixed vegetable fats and oils (including jojoba oil) and their fractions, (other than those specified of heading no.15.07 to 15.14   e.g. : soya bean, ground-nut, olive, palm, sunflower-seed, cotton-seed, coconut (copra), or rape oil and fractions\n",
      "    10: ไขมันหรือน้ำมันที่ได้จากสัตว์หรือพืชและเศษของของดังกล่าว  ที่ผ่านกรรมวิธีไฮโดรจีเนชันเพียงบางส่วนหรือทั้งหมด  ที่ผ่านกรรมวิธีอินเตอร์เอสเทอริฟิเคชัน                  รีเอสเทอริฟิเคชันหรือกรรมวิธีอิเลดิไนเซชัน  จะทำให้บริสุทธิ์หรือไม่ก็ตาม แต่ต้องไม่จัดทำ\n",
      "    11: Animal or vegetable fats and oils and their fractions, partly or wholly hydrogenated, inter-esterified, re-esterified or elaidinised, whether or not refined, but not further prepared.\n",
      "    14: ครั่ง รวมทั้งกัม เรซิน น้ำเลี้ยง(แซบ) และสิ่งสกัดอื่นๆ จากพืช\n",
      "    15: Lac ; gum, resins and other vegetable saps and extracts\n",
      "    16: ไขมันและน้ำมันที่ได้จากสัตว์หรือพืช และผลิตภัณฑ์ที่แยกได้จากไขมันและน้ำมันดังกล่าว ไขมันที่บริโภคซึ่งจัดทำแล้ว ไขที่ได้จากสัตว์หรือพืช\n",
      "    17: Animal or vegetable fats and oils and their cleavage products ; prepared edible fats ; animal or vegetable waxes\n"
     ]
    }
   ],
   "source": [
    "n_group = hdbscan_cluster.max()+1\n",
    "for i in range(n_group):\n",
    "    print(f'--- group: {i} ---')\n",
    "    for j, text in enumerate(sentences_text):\n",
    "        if hdbscan_cluster[j] == i:\n",
    "            print(f'    {j}: {text}')"
   ]
  },
  {
   "cell_type": "markdown",
   "metadata": {},
   "source": [
    "#### DBSCAN + UMAP"
   ]
  },
  {
   "cell_type": "code",
   "execution_count": 68,
   "metadata": {},
   "outputs": [
    {
     "data": {
      "text/plain": [
       "array([0, 0, 0, 0, 1, 1, 2, 2, 1, 1, 2, 2, 0, 0, 1, 1, 2, 2])"
      ]
     },
     "execution_count": 68,
     "metadata": {},
     "output_type": "execute_result"
    }
   ],
   "source": [
    "X_umap = umap.UMAP(n_neighbors=5, n_components=3).fit_transform(X)\n",
    "\n",
    "dbscan_cluster = DBSCAN(eps=0.73, min_samples=2).fit(X_umap)\n",
    "dbscan_cluster.labels_"
   ]
  },
  {
   "cell_type": "markdown",
   "metadata": {},
   "source": [
    "##### silhouette score"
   ]
  },
  {
   "cell_type": "code",
   "execution_count": 69,
   "metadata": {},
   "outputs": [
    {
     "data": {
      "text/plain": [
       "0.6212773"
      ]
     },
     "execution_count": 69,
     "metadata": {},
     "output_type": "execute_result"
    }
   ],
   "source": [
    "dbscan_silhouette = metrics.silhouette_score(X_umap, dbscan_cluster.labels_, metric='euclidean')\n",
    "dbscan_silhouette"
   ]
  },
  {
   "cell_type": "code",
   "execution_count": 70,
   "metadata": {},
   "outputs": [
    {
     "name": "stdout",
     "output_type": "stream",
     "text": [
      "--- group: 0 ---\n",
      "    0: ข้าวโพด\n",
      "    1: Maize (corn).\n",
      "    2: ข้าว\n",
      "    3: Rice.\n",
      "    12: ธัญพืช\n",
      "    13: Cereals\n",
      "--- group: 1 ---\n",
      "    4: น้ำเลี้ยง (แซป) และสิ่งสกัดจากพืช สารจำพวกเพกติก เกลือของกรดเพกตินิก (เพกติเนต) และเกลือของเพกติก (เพกเตต)  รวมทั้งวุ้นที่ได้จากสาหร่ายทะเล และวุ้นและยางข้นอื่น ๆ ที่ได้จากผลิตภัณฑ์จากพืช จะดัดแปลงหรือไม่ก็ตาม\n",
      "    5: Vegetable saps and extracts; pectic substances, pectinates and pectates; agar-agar and other mucilages and thickeners, whether or not modified, derived from vegetable products.\n",
      "    8: ไขมันและน้ำมันชนิดระเหยยากอื่น ๆ ที่ได้จากพืช  (รวมถึงน้ำมันโจโจบา)  และเศษของของดังกล่าว  (นอกจากที่ระบุไว้ตามประเภทที่ 15.07 ถึง 15.14  เช่น               น้ำมันถั่วเหลือง น้ำมันถั่วลิสง น้ำมันมะกอก น้ำมันปาล์ม น้ำมันที่ได้จากเมล็ดทานตะวัน น้ำมันเมล็ดฝ\n",
      "    9: Other fixed vegetable fats and oils (including jojoba oil) and their fractions, (other than those specified of heading no.15.07 to 15.14   e.g. : soya bean, ground-nut, olive, palm, sunflower-seed, cotton-seed, coconut (copra), or rape oil and fractions\n",
      "    14: ครั่ง รวมทั้งกัม เรซิน น้ำเลี้ยง(แซบ) และสิ่งสกัดอื่นๆ จากพืช\n",
      "    15: Lac ; gum, resins and other vegetable saps and extracts\n",
      "--- group: 2 ---\n",
      "    6: น้ำมันมะพร้าว น้ำมันเนื้อในเมล็ดปาล์ม น้ำมันบาบาสสุ และเศษของน้ำมันดังกล่าว จะทำให้บริสุทธิ์หรือไม่ก็ตาม แต่ต้องไม่ดัดแปลงทางเคมี\n",
      "    7: Coconut (copra), palm kernel or babassu oil and fractions thereof, whether or not refined, but not chemically modified.\n",
      "    10: ไขมันหรือน้ำมันที่ได้จากสัตว์หรือพืชและเศษของของดังกล่าว  ที่ผ่านกรรมวิธีไฮโดรจีเนชันเพียงบางส่วนหรือทั้งหมด  ที่ผ่านกรรมวิธีอินเตอร์เอสเทอริฟิเคชัน                  รีเอสเทอริฟิเคชันหรือกรรมวิธีอิเลดิไนเซชัน  จะทำให้บริสุทธิ์หรือไม่ก็ตาม แต่ต้องไม่จัดทำ\n",
      "    11: Animal or vegetable fats and oils and their fractions, partly or wholly hydrogenated, inter-esterified, re-esterified or elaidinised, whether or not refined, but not further prepared.\n",
      "    16: ไขมันและน้ำมันที่ได้จากสัตว์หรือพืช และผลิตภัณฑ์ที่แยกได้จากไขมันและน้ำมันดังกล่าว ไขมันที่บริโภคซึ่งจัดทำแล้ว ไขที่ได้จากสัตว์หรือพืช\n",
      "    17: Animal or vegetable fats and oils and their cleavage products ; prepared edible fats ; animal or vegetable waxes\n"
     ]
    }
   ],
   "source": [
    "n_group = dbscan_cluster.labels_.max()+1\n",
    "for i in range(n_group):\n",
    "    print(f'--- group: {i} ---')\n",
    "    for j, text in enumerate(sentences_text):\n",
    "        if dbscan_cluster.labels_[j] == i:\n",
    "            print(f'    {j}: {text}')"
   ]
  },
  {
   "cell_type": "code",
   "execution_count": 33,
   "metadata": {},
   "outputs": [],
   "source": [
    "# pip install hdbscan"
   ]
  },
  {
   "cell_type": "code",
   "execution_count": 71,
   "metadata": {},
   "outputs": [],
   "source": [
    "\n",
    "# from sklearn.datasets import load_digits\n",
    "\n",
    "# digits = load_digits()\n",
    "\n",
    "# embedding = umap.UMAP().fit_transform(digits.data)"
   ]
  },
  {
   "cell_type": "code",
   "execution_count": 72,
   "metadata": {},
   "outputs": [],
   "source": [
    "# X_umap = umap.UMAP().fit(X)\n",
    "# umap.plot.points(X_umap, labels=clustering.labels_)"
   ]
  },
  {
   "cell_type": "code",
   "execution_count": 44,
   "metadata": {},
   "outputs": [],
   "source": [
    "\n",
    "# clustering = DBSCAN(eps=3, min_samples=2).fit(X_umap)\n",
    "# clustering.labels_"
   ]
  },
  {
   "cell_type": "code",
   "execution_count": 73,
   "metadata": {},
   "outputs": [],
   "source": [
    "# X_umap"
   ]
  },
  {
   "cell_type": "code",
   "execution_count": 74,
   "metadata": {},
   "outputs": [],
   "source": [
    "# embedding"
   ]
  },
  {
   "cell_type": "markdown",
   "metadata": {},
   "source": [
    "## Kmean"
   ]
  },
  {
   "cell_type": "code",
   "execution_count": 123,
   "metadata": {},
   "outputs": [
    {
     "data": {
      "text/plain": [
       "array([0, 0, 0, 0, 3, 5, 1, 4, 3, 4, 1, 1, 0, 0, 3, 2, 1, 1], dtype=int32)"
      ]
     },
     "execution_count": 123,
     "metadata": {},
     "output_type": "execute_result"
    }
   ],
   "source": [
    "kmeans = KMeans(n_clusters=6, random_state=0, n_init=\"auto\").fit(X)\n",
    "kmeans.labels_"
   ]
  },
  {
   "cell_type": "markdown",
   "metadata": {},
   "source": [
    "##### silhouette score"
   ]
  },
  {
   "cell_type": "code",
   "execution_count": 124,
   "metadata": {},
   "outputs": [
    {
     "data": {
      "text/plain": [
       "0.12312923"
      ]
     },
     "execution_count": 124,
     "metadata": {},
     "output_type": "execute_result"
    }
   ],
   "source": [
    "kmean_silhouette = metrics.silhouette_score(X, kmeans.labels_, metric='euclidean')\n",
    "kmean_silhouette"
   ]
  },
  {
   "cell_type": "markdown",
   "metadata": {},
   "source": [
    "##### cluster result"
   ]
  },
  {
   "cell_type": "code",
   "execution_count": 126,
   "metadata": {},
   "outputs": [
    {
     "name": "stdout",
     "output_type": "stream",
     "text": [
      "--- group: 0 ---\n",
      "    0: ข้าวโพด\n",
      "    1: Maize (corn).\n",
      "    2: ข้าว\n",
      "    3: Rice.\n",
      "    12: ธัญพืช\n",
      "    13: Cereals\n",
      "--- group: 1 ---\n",
      "    6: น้ำมันมะพร้าว น้ำมันเนื้อในเมล็ดปาล์ม น้ำมันบาบาสสุ และเศษของน้ำมันดังกล่าว จะทำให้บริสุทธิ์หรือไม่ก็ตาม แต่ต้องไม่ดัดแปลงทางเคมี\n",
      "    10: ไขมันหรือน้ำมันที่ได้จากสัตว์หรือพืชและเศษของของดังกล่าว  ที่ผ่านกรรมวิธีไฮโดรจีเนชันเพียงบางส่วนหรือทั้งหมด  ที่ผ่านกรรมวิธีอินเตอร์เอสเทอริฟิเคชัน                  รีเอสเทอริฟิเคชันหรือกรรมวิธีอิเลดิไนเซชัน  จะทำให้บริสุทธิ์หรือไม่ก็ตาม แต่ต้องไม่จัดทำ\n",
      "    11: Animal or vegetable fats and oils and their fractions, partly or wholly hydrogenated, inter-esterified, re-esterified or elaidinised, whether or not refined, but not further prepared.\n",
      "    16: ไขมันและน้ำมันที่ได้จากสัตว์หรือพืช และผลิตภัณฑ์ที่แยกได้จากไขมันและน้ำมันดังกล่าว ไขมันที่บริโภคซึ่งจัดทำแล้ว ไขที่ได้จากสัตว์หรือพืช\n",
      "    17: Animal or vegetable fats and oils and their cleavage products ; prepared edible fats ; animal or vegetable waxes\n",
      "--- group: 2 ---\n",
      "    15: Lac ; gum, resins and other vegetable saps and extracts\n",
      "--- group: 3 ---\n",
      "    4: น้ำเลี้ยง (แซป) และสิ่งสกัดจากพืช สารจำพวกเพกติก เกลือของกรดเพกตินิก (เพกติเนต) และเกลือของเพกติก (เพกเตต)  รวมทั้งวุ้นที่ได้จากสาหร่ายทะเล และวุ้นและยางข้นอื่น ๆ ที่ได้จากผลิตภัณฑ์จากพืช จะดัดแปลงหรือไม่ก็ตาม\n",
      "    8: ไขมันและน้ำมันชนิดระเหยยากอื่น ๆ ที่ได้จากพืช  (รวมถึงน้ำมันโจโจบา)  และเศษของของดังกล่าว  (นอกจากที่ระบุไว้ตามประเภทที่ 15.07 ถึง 15.14  เช่น               น้ำมันถั่วเหลือง น้ำมันถั่วลิสง น้ำมันมะกอก น้ำมันปาล์ม น้ำมันที่ได้จากเมล็ดทานตะวัน น้ำมันเมล็ดฝ\n",
      "    14: ครั่ง รวมทั้งกัม เรซิน น้ำเลี้ยง(แซบ) และสิ่งสกัดอื่นๆ จากพืช\n",
      "--- group: 4 ---\n",
      "    7: Coconut (copra), palm kernel or babassu oil and fractions thereof, whether or not refined, but not chemically modified.\n",
      "    9: Other fixed vegetable fats and oils (including jojoba oil) and their fractions, (other than those specified of heading no.15.07 to 15.14   e.g. : soya bean, ground-nut, olive, palm, sunflower-seed, cotton-seed, coconut (copra), or rape oil and fractions\n",
      "--- group: 5 ---\n",
      "    5: Vegetable saps and extracts; pectic substances, pectinates and pectates; agar-agar and other mucilages and thickeners, whether or not modified, derived from vegetable products.\n"
     ]
    }
   ],
   "source": [
    "n_group = kmeans.labels_.max()+1\n",
    "for i in range(n_group):\n",
    "    print(f'--- group: {i} ---')\n",
    "    for j, text in enumerate(sentences_text):\n",
    "        if kmeans.labels_[j] == i:\n",
    "            print(f'    {j}: {text}')"
   ]
  },
  {
   "cell_type": "markdown",
   "metadata": {},
   "source": [
    "## OPTICS"
   ]
  },
  {
   "cell_type": "code",
   "execution_count": 115,
   "metadata": {},
   "outputs": [
    {
     "data": {
      "text/plain": [
       "array([ 0, -1,  0, -1,  1, -1,  2, -1, -1, -1,  2, -1,  0, -1,  1, -1,  2,\n",
       "       -1])"
      ]
     },
     "execution_count": 115,
     "metadata": {},
     "output_type": "execute_result"
    }
   ],
   "source": [
    "optics = OPTICS(min_samples=2, eps=20).fit(X)\n",
    "optics.labels_"
   ]
  },
  {
   "cell_type": "markdown",
   "metadata": {},
   "source": [
    "##### silhouette score"
   ]
  },
  {
   "cell_type": "code",
   "execution_count": 116,
   "metadata": {},
   "outputs": [
    {
     "data": {
      "text/plain": [
       "-0.0068369284"
      ]
     },
     "execution_count": 116,
     "metadata": {},
     "output_type": "execute_result"
    }
   ],
   "source": [
    "optics_silhouette = metrics.silhouette_score(X, clustering.labels_, metric='euclidean')\n",
    "optics_silhouette"
   ]
  },
  {
   "cell_type": "markdown",
   "metadata": {},
   "source": [
    "##### cluster result"
   ]
  },
  {
   "cell_type": "code",
   "execution_count": 127,
   "metadata": {},
   "outputs": [
    {
     "name": "stdout",
     "output_type": "stream",
     "text": [
      "--- group: 0 ---\n",
      "    0: ข้าวโพด\n",
      "    2: ข้าว\n",
      "    12: ธัญพืช\n",
      "--- group: 1 ---\n",
      "    4: น้ำเลี้ยง (แซป) และสิ่งสกัดจากพืช สารจำพวกเพกติก เกลือของกรดเพกตินิก (เพกติเนต) และเกลือของเพกติก (เพกเตต)  รวมทั้งวุ้นที่ได้จากสาหร่ายทะเล และวุ้นและยางข้นอื่น ๆ ที่ได้จากผลิตภัณฑ์จากพืช จะดัดแปลงหรือไม่ก็ตาม\n",
      "    14: ครั่ง รวมทั้งกัม เรซิน น้ำเลี้ยง(แซบ) และสิ่งสกัดอื่นๆ จากพืช\n",
      "--- group: 2 ---\n",
      "    6: น้ำมันมะพร้าว น้ำมันเนื้อในเมล็ดปาล์ม น้ำมันบาบาสสุ และเศษของน้ำมันดังกล่าว จะทำให้บริสุทธิ์หรือไม่ก็ตาม แต่ต้องไม่ดัดแปลงทางเคมี\n",
      "    10: ไขมันหรือน้ำมันที่ได้จากสัตว์หรือพืชและเศษของของดังกล่าว  ที่ผ่านกรรมวิธีไฮโดรจีเนชันเพียงบางส่วนหรือทั้งหมด  ที่ผ่านกรรมวิธีอินเตอร์เอสเทอริฟิเคชัน                  รีเอสเทอริฟิเคชันหรือกรรมวิธีอิเลดิไนเซชัน  จะทำให้บริสุทธิ์หรือไม่ก็ตาม แต่ต้องไม่จัดทำ\n",
      "    16: ไขมันและน้ำมันที่ได้จากสัตว์หรือพืช และผลิตภัณฑ์ที่แยกได้จากไขมันและน้ำมันดังกล่าว ไขมันที่บริโภคซึ่งจัดทำแล้ว ไขที่ได้จากสัตว์หรือพืช\n"
     ]
    }
   ],
   "source": [
    "n_group = optics.labels_.max()+1\n",
    "for i in range(n_group):\n",
    "    print(f'--- group: {i} ---')\n",
    "    for j, text in enumerate(sentences_text):\n",
    "        if clustering.labels_[j] == i:\n",
    "            print(f'    {j}: {text}')\n"
   ]
  }
 ],
 "metadata": {
  "kernelspec": {
   "display_name": "Python 3.8.15 ('mdm')",
   "language": "python",
   "name": "python3"
  },
  "language_info": {
   "codemirror_mode": {
    "name": "ipython",
    "version": 3
   },
   "file_extension": ".py",
   "mimetype": "text/x-python",
   "name": "python",
   "nbconvert_exporter": "python",
   "pygments_lexer": "ipython3",
   "version": "3.8.15"
  },
  "vscode": {
   "interpreter": {
    "hash": "c2efc473d0a0d50c19a5adbeac08e391174523270bbcd5ecc02a4aa5f4c81327"
   }
  }
 },
 "nbformat": 4,
 "nbformat_minor": 2
}
